{
 "cells": [
  {
   "cell_type": "markdown",
   "id": "e50eee59-b527-44e0-afa8-7e4ee190affb",
   "metadata": {},
   "source": [
    "# Import"
   ]
  },
  {
   "cell_type": "code",
   "execution_count": 1,
   "id": "493a074b-5e32-44c1-aee9-d378b1b37003",
   "metadata": {},
   "outputs": [
    {
     "name": "stderr",
     "output_type": "stream",
     "text": [
      "/home/wanted-1/.local/lib/python3.10/site-packages/tqdm/auto.py:21: TqdmWarning: IProgress not found. Please update jupyter and ipywidgets. See https://ipywidgets.readthedocs.io/en/stable/user_install.html\n",
      "  from .autonotebook import tqdm as notebook_tqdm\n"
     ]
    }
   ],
   "source": [
    "import pandas as pd\n",
    "\n",
    "from langchain.embeddings import HuggingFaceEmbeddings\n",
    "from langchain.vectorstores import FAISS, Chroma\n",
    "from langchain.prompts import PromptTemplate\n",
    "from langchain.chains import RetrievalQA\n",
    "from langchain.llms import HuggingFacePipeline\n",
    "\n",
    "from transformers import pipeline, AutoModelForCausalLM, AutoTokenizer, BitsAndBytesConfig\n",
    "import torch"
   ]
  },
  {
   "cell_type": "code",
   "execution_count": 2,
   "id": "eaebfb9b",
   "metadata": {},
   "outputs": [],
   "source": [
    "import os\n",
    "os.environ[\"CUDA_VISIBLE_DEVICES\"] = \"1\"  # 0번 GPU만 노출됨"
   ]
  },
  {
   "cell_type": "markdown",
   "id": "37f4223e-111b-49a8-a716-5f98caacf12f",
   "metadata": {},
   "source": [
    "# Data Load & Pre-processing"
   ]
  },
  {
   "cell_type": "code",
   "execution_count": 4,
   "id": "f871264a-ecd6-430d-ab1f-8edad746bd14",
   "metadata": {},
   "outputs": [],
   "source": [
    "train = pd.read_csv('../../data/ref_train.csv', encoding = 'utf-8-sig')\n",
    "test = pd.read_csv('../../data/test.csv', encoding = 'utf-8-sig')"
   ]
  },
  {
   "cell_type": "code",
   "execution_count": 4,
   "id": "994b3a2e",
   "metadata": {},
   "outputs": [
    {
     "data": {
      "text/plain": [
       "Index(['ID', '발생일시', '사고인지 시간', '날씨', '기온', '습도', '공사종류', '연면적', '층 정보',\n",
       "       '인적사고', '물적사고', '공종', '사고객체', '작업프로세스', '장소', '부위', '사고원인',\n",
       "       '재발방지대책 및 향후조치계획'],\n",
       "      dtype='object')"
      ]
     },
     "execution_count": 4,
     "metadata": {},
     "output_type": "execute_result"
    }
   ],
   "source": [
    "train.columns"
   ]
  },
  {
   "cell_type": "code",
   "execution_count": 4,
   "id": "27d583b2",
   "metadata": {},
   "outputs": [
    {
     "data": {
      "text/html": [
       "<div>\n",
       "<style scoped>\n",
       "    .dataframe tbody tr th:only-of-type {\n",
       "        vertical-align: middle;\n",
       "    }\n",
       "\n",
       "    .dataframe tbody tr th {\n",
       "        vertical-align: top;\n",
       "    }\n",
       "\n",
       "    .dataframe thead th {\n",
       "        text-align: right;\n",
       "    }\n",
       "</style>\n",
       "<table border=\"1\" class=\"dataframe\">\n",
       "  <thead>\n",
       "    <tr style=\"text-align: right;\">\n",
       "      <th></th>\n",
       "      <th>ID</th>\n",
       "      <th>발생일시</th>\n",
       "      <th>사고인지 시간</th>\n",
       "      <th>날씨</th>\n",
       "      <th>기온</th>\n",
       "      <th>습도</th>\n",
       "      <th>공사종류</th>\n",
       "      <th>연면적</th>\n",
       "      <th>층 정보</th>\n",
       "      <th>인적사고</th>\n",
       "      <th>물적사고</th>\n",
       "      <th>공종</th>\n",
       "      <th>사고객체</th>\n",
       "      <th>작업프로세스</th>\n",
       "      <th>장소</th>\n",
       "      <th>부위</th>\n",
       "      <th>사고원인</th>\n",
       "      <th>재발방지대책 및 향후조치계획</th>\n",
       "    </tr>\n",
       "  </thead>\n",
       "  <tbody>\n",
       "    <tr>\n",
       "      <th>0</th>\n",
       "      <td>TRAIN_00000</td>\n",
       "      <td>2023-12-31 오후 12:44</td>\n",
       "      <td>정규작업 -</td>\n",
       "      <td>맑음</td>\n",
       "      <td>1℃</td>\n",
       "      <td>30%</td>\n",
       "      <td>건축 / 건축물 / 근린생활시설</td>\n",
       "      <td>4,892.77㎡</td>\n",
       "      <td>지상 14층, 지하 3층</td>\n",
       "      <td>떨어짐(5미터 이상 ~ 10미터 미만)</td>\n",
       "      <td>없음</td>\n",
       "      <td>건축 &gt; 철근콘크리트공사</td>\n",
       "      <td>건설자재 &gt; 철근</td>\n",
       "      <td>설치작업</td>\n",
       "      <td>근린생활시설 / 내부</td>\n",
       "      <td>철근 / 고소</td>\n",
       "      <td>고소작업 중 추락 위험이 있음에도 불구하고, 안전난간대, 안전고리 착용 등 안전장치...</td>\n",
       "      <td>고소작업 시 추락 위험이 있는 부위에 안전장비 설치.</td>\n",
       "    </tr>\n",
       "    <tr>\n",
       "      <th>1</th>\n",
       "      <td>TRAIN_00001</td>\n",
       "      <td>2023-12-30 오후 03:35</td>\n",
       "      <td>정규작업 -</td>\n",
       "      <td>맑음</td>\n",
       "      <td>10℃</td>\n",
       "      <td>90%</td>\n",
       "      <td>토목 / 터널 / 철도터널</td>\n",
       "      <td>-</td>\n",
       "      <td>-</td>\n",
       "      <td>끼임</td>\n",
       "      <td>없음</td>\n",
       "      <td>토목 &gt; 터널공사</td>\n",
       "      <td>건설자재 &gt; 볼트</td>\n",
       "      <td>운반작업</td>\n",
       "      <td>철도터널 / 내부</td>\n",
       "      <td>볼트 / 바닥</td>\n",
       "      <td>부주의</td>\n",
       "      <td>재발 방지 대책 마련과 안전교육 실시.</td>\n",
       "    </tr>\n",
       "    <tr>\n",
       "      <th>2</th>\n",
       "      <td>TRAIN_00002</td>\n",
       "      <td>2023-12-30 오후 02:30</td>\n",
       "      <td>정규작업 -</td>\n",
       "      <td>맑음</td>\n",
       "      <td>14℃</td>\n",
       "      <td>70%</td>\n",
       "      <td>건축 / 건축물 / 업무시설</td>\n",
       "      <td>1,994.62㎡</td>\n",
       "      <td>지상 5층, 지하 0층</td>\n",
       "      <td>넘어짐(미끄러짐)</td>\n",
       "      <td>없음</td>\n",
       "      <td>건축 &gt; 철근콘크리트공사</td>\n",
       "      <td>기타 &gt; 기타</td>\n",
       "      <td>형틀 및 목공</td>\n",
       "      <td>업무시설 / 내부</td>\n",
       "      <td>기타 / 바닥</td>\n",
       "      <td>3층 슬라브 작업시 이동중  미끄러짐</td>\n",
       "      <td>현장자재 정리와 안전관리 철저를 통한 재발 방지 대책 및 공문 발송을 통한 향후 조...</td>\n",
       "    </tr>\n",
       "    <tr>\n",
       "      <th>3</th>\n",
       "      <td>TRAIN_00003</td>\n",
       "      <td>2023-12-30 오후 12:00</td>\n",
       "      <td>휴일근무 -</td>\n",
       "      <td>흐림</td>\n",
       "      <td>12℃</td>\n",
       "      <td>55%</td>\n",
       "      <td>토목 / 하천 / 기타</td>\n",
       "      <td>-</td>\n",
       "      <td>-</td>\n",
       "      <td>기타</td>\n",
       "      <td>전도</td>\n",
       "      <td>토목 &gt; 하천공사</td>\n",
       "      <td>부재 &gt; 교각 기초</td>\n",
       "      <td>조립작업</td>\n",
       "      <td>기타 / 동산교 신축구간</td>\n",
       "      <td>교각 기초 / 바닥</td>\n",
       "      <td>교각 기초철근 조립 중 강한 바람에 의해 기둥측 주철근이 균형을 잃고 전도되어, 하...</td>\n",
       "      <td>위험성 평가 및 교육을 통해 작업장 내 위험요인과 안전수칙을 근로자에게 전파하고, ...</td>\n",
       "    </tr>\n",
       "    <tr>\n",
       "      <th>4</th>\n",
       "      <td>TRAIN_00004</td>\n",
       "      <td>2023-12-30 오전 10:00</td>\n",
       "      <td>정규작업 -</td>\n",
       "      <td>맑음</td>\n",
       "      <td>0℃</td>\n",
       "      <td>10%</td>\n",
       "      <td>건축 / 건축물 / 공동주택</td>\n",
       "      <td>59,388.93㎡</td>\n",
       "      <td>지상 27층, 지하 3층</td>\n",
       "      <td>넘어짐(미끄러짐)</td>\n",
       "      <td>없음</td>\n",
       "      <td>건축 &gt; 해체 및 철거공사</td>\n",
       "      <td>기타 &gt; 건설폐기물</td>\n",
       "      <td>해체작업</td>\n",
       "      <td>공동주택 / 내부</td>\n",
       "      <td>건설폐기물 / 바닥</td>\n",
       "      <td>근로자의 부주의</td>\n",
       "      <td>자재 정리 작업 시 세부 작업 방법에 대한 교육 실시와 작업 구간 이동 경로 점검 ...</td>\n",
       "    </tr>\n",
       "  </tbody>\n",
       "</table>\n",
       "</div>"
      ],
      "text/plain": [
       "            ID                 발생일시 사고인지 시간  날씨   기온   습도               공사종류  \\\n",
       "0  TRAIN_00000  2023-12-31 오후 12:44  정규작업 -  맑음   1℃  30%  건축 / 건축물 / 근린생활시설   \n",
       "1  TRAIN_00001  2023-12-30 오후 03:35  정규작업 -  맑음  10℃  90%     토목 / 터널 / 철도터널   \n",
       "2  TRAIN_00002  2023-12-30 오후 02:30  정규작업 -  맑음  14℃  70%    건축 / 건축물 / 업무시설   \n",
       "3  TRAIN_00003  2023-12-30 오후 12:00  휴일근무 -  흐림  12℃  55%       토목 / 하천 / 기타   \n",
       "4  TRAIN_00004  2023-12-30 오전 10:00  정규작업 -  맑음   0℃  10%    건축 / 건축물 / 공동주택   \n",
       "\n",
       "          연면적           층 정보                   인적사고 물적사고              공종  \\\n",
       "0   4,892.77㎡  지상 14층, 지하 3층  떨어짐(5미터 이상 ~ 10미터 미만)   없음   건축 > 철근콘크리트공사   \n",
       "1           -              -                     끼임   없음       토목 > 터널공사   \n",
       "2   1,994.62㎡   지상 5층, 지하 0층              넘어짐(미끄러짐)   없음   건축 > 철근콘크리트공사   \n",
       "3           -              -                     기타   전도       토목 > 하천공사   \n",
       "4  59,388.93㎡  지상 27층, 지하 3층              넘어짐(미끄러짐)   없음  건축 > 해체 및 철거공사   \n",
       "\n",
       "         사고객체   작업프로세스             장소          부위  \\\n",
       "0   건설자재 > 철근     설치작업    근린생활시설 / 내부     철근 / 고소   \n",
       "1   건설자재 > 볼트     운반작업      철도터널 / 내부     볼트 / 바닥   \n",
       "2     기타 > 기타  형틀 및 목공      업무시설 / 내부     기타 / 바닥   \n",
       "3  부재 > 교각 기초     조립작업  기타 / 동산교 신축구간  교각 기초 / 바닥   \n",
       "4  기타 > 건설폐기물     해체작업      공동주택 / 내부  건설폐기물 / 바닥   \n",
       "\n",
       "                                                사고원인  \\\n",
       "0  고소작업 중 추락 위험이 있음에도 불구하고, 안전난간대, 안전고리 착용 등 안전장치...   \n",
       "1                                                부주의   \n",
       "2                               3층 슬라브 작업시 이동중  미끄러짐   \n",
       "3  교각 기초철근 조립 중 강한 바람에 의해 기둥측 주철근이 균형을 잃고 전도되어, 하...   \n",
       "4                                           근로자의 부주의   \n",
       "\n",
       "                                     재발방지대책 및 향후조치계획  \n",
       "0                      고소작업 시 추락 위험이 있는 부위에 안전장비 설치.  \n",
       "1                              재발 방지 대책 마련과 안전교육 실시.  \n",
       "2  현장자재 정리와 안전관리 철저를 통한 재발 방지 대책 및 공문 발송을 통한 향후 조...  \n",
       "3  위험성 평가 및 교육을 통해 작업장 내 위험요인과 안전수칙을 근로자에게 전파하고, ...  \n",
       "4  자재 정리 작업 시 세부 작업 방법에 대한 교육 실시와 작업 구간 이동 경로 점검 ...  "
      ]
     },
     "execution_count": 4,
     "metadata": {},
     "output_type": "execute_result"
    }
   ],
   "source": [
    "train.head()"
   ]
  },
  {
   "cell_type": "code",
   "execution_count": 5,
   "id": "5dcc0921-e9a7-407a-a070-148abb06aca5",
   "metadata": {},
   "outputs": [],
   "source": [
    "# 데이터 전처리\n",
    "train['공사종류(대분류)'] = train['공사종류'].str.split(' / ').str[0]\n",
    "train['공사종류(중분류)'] = train['공사종류'].str.split(' / ').str[1]\n",
    "train['공종(대분류)'] = train['공종'].str.split(' > ').str[0]\n",
    "train['공종(중분류)'] = train['공종'].str.split(' > ').str[1]\n",
    "train['사고객체(대분류)'] = train['사고객체'].str.split(' > ').str[0]\n",
    "train['사고객체(중분류)'] = train['사고객체'].str.split(' > ').str[1]\n",
    "\n",
    "test['공사종류(대분류)'] = test['공사종류'].str.split(' / ').str[0]\n",
    "test['공사종류(중분류)'] = test['공사종류'].str.split(' / ').str[1]\n",
    "test['공종(대분류)'] = test['공종'].str.split(' > ').str[0]\n",
    "test['공종(중분류)'] = test['공종'].str.split(' > ').str[1]\n",
    "test['사고객체(대분류)'] = test['사고객체'].str.split(' > ').str[0]\n",
    "test['사고객체(중분류)'] = test['사고객체'].str.split(' > ').str[1]"
   ]
  },
  {
   "cell_type": "code",
   "execution_count": 6,
   "id": "90e51bca-0c93-4412-9634-9f86ea9a36ef",
   "metadata": {},
   "outputs": [],
   "source": [
    "# 훈련 데이터 통합 생성\n",
    "combined_training_data = train.apply(\n",
    "    lambda row: {\n",
    "        \"question\": (\n",
    "            f\"공사종류 대분류 '{row['공사종류(대분류)']}', 중분류 '{row['공사종류(중분류)']}' 공사 중 \"\n",
    "            f\"공종 대분류 '{row['공종(대분류)']}', 중분류 '{row['공종(중분류)']}' 작업에서 \"\n",
    "            f\"사고객체 '{row['사고객체(대분류)']}'(중분류: '{row['사고객체(중분류)']}')와 관련된 사고가 발생했습니다. \"\n",
    "            f\"작업 프로세스는 '{row['작업프로세스']}'이며, 사고 원인은 '{row['사고원인']}'입니다. \"\n",
    "            f\"재발 방지 대책 및 향후 조치 계획은 무엇인가요?\"\n",
    "        ),\n",
    "        \"answer\": row[\"재발방지대책 및 향후조치계획\"]\n",
    "    },\n",
    "    axis=1\n",
    ")\n",
    "\n",
    "# DataFrame으로 변환\n",
    "combined_training_data = pd.DataFrame(list(combined_training_data))"
   ]
  },
  {
   "cell_type": "code",
   "execution_count": 7,
   "id": "cbf53249-8aae-4308-a476-4200814da53d",
   "metadata": {
    "scrolled": true
   },
   "outputs": [],
   "source": [
    "# 테스트 데이터 통합 생성\n",
    "combined_test_data = test.apply(\n",
    "    lambda row: {\n",
    "        \"question\": (\n",
    "            f\"공사종류 대분류 '{row['공사종류(대분류)']}', 중분류 '{row['공사종류(중분류)']}' 공사 중 \"\n",
    "            f\"공종 대분류 '{row['공종(대분류)']}', 중분류 '{row['공종(중분류)']}' 작업에서 \"\n",
    "            f\"사고객체 '{row['사고객체(대분류)']}'(중분류: '{row['사고객체(중분류)']}')와 관련된 사고가 발생했습니다. \"\n",
    "            f\"작업 프로세스는 '{row['작업프로세스']}'이며, 사고 원인은 '{row['사고원인']}'입니다. \"\n",
    "            f\"재발 방지 대책 및 향후 조치 계획은 무엇인가요?\"\n",
    "        )\n",
    "    },\n",
    "    axis=1\n",
    ")\n",
    "\n",
    "# DataFrame으로 변환\n",
    "combined_test_data = pd.DataFrame(list(combined_test_data))"
   ]
  },
  {
   "cell_type": "markdown",
   "id": "45bea209-6521-4974-a785-c2faf5af427c",
   "metadata": {},
   "source": [
    "# Model import"
   ]
  },
  {
   "cell_type": "code",
   "execution_count": 7,
   "id": "b3b1d4ec-a335-4a3e-803e-1ee0a8e8b482",
   "metadata": {},
   "outputs": [],
   "source": [
    "bnb_config = BitsAndBytesConfig(\n",
    "    load_in_4bit=True,\n",
    "    bnb_4bit_use_double_quant=True,\n",
    "    bnb_4bit_quant_type=\"nf4\",\n",
    "    bnb_4bit_compute_dtype=torch.bfloat16   \n",
    ")"
   ]
  },
  {
   "cell_type": "code",
   "execution_count": 7,
   "id": "3fd9f2e5-4293-48b1-9c8a-347cf500b257",
   "metadata": {},
   "outputs": [
    {
     "data": {
      "application/vnd.jupyter.widget-view+json": {
       "model_id": "77cd8452be174b4aa755813671f7a18c",
       "version_major": 2,
       "version_minor": 0
      },
      "text/plain": [
       "Loading checkpoint shards:   0%|          | 0/4 [00:00<?, ?it/s]"
      ]
     },
     "metadata": {},
     "output_type": "display_data"
    }
   ],
   "source": [
    "model_id = \"NCSOFT/Llama-VARCO-8B-Instruct\"\n",
    "\n",
    "tokenizer = AutoTokenizer.from_pretrained(model_id)\n",
    "model = AutoModelForCausalLM.from_pretrained(model_id, quantization_config=bnb_config, device_map=\"auto\")"
   ]
  },
  {
   "cell_type": "markdown",
   "id": "021ff667",
   "metadata": {},
   "source": [
    "# Vector store 생성"
   ]
  },
  {
   "cell_type": "code",
   "execution_count": 8,
   "id": "b79104ee",
   "metadata": {},
   "outputs": [
    {
     "data": {
      "text/html": [
       "<div>\n",
       "<style scoped>\n",
       "    .dataframe tbody tr th:only-of-type {\n",
       "        vertical-align: middle;\n",
       "    }\n",
       "\n",
       "    .dataframe tbody tr th {\n",
       "        vertical-align: top;\n",
       "    }\n",
       "\n",
       "    .dataframe thead th {\n",
       "        text-align: right;\n",
       "    }\n",
       "</style>\n",
       "<table border=\"1\" class=\"dataframe\">\n",
       "  <thead>\n",
       "    <tr style=\"text-align: right;\">\n",
       "      <th></th>\n",
       "      <th>question</th>\n",
       "      <th>answer</th>\n",
       "    </tr>\n",
       "  </thead>\n",
       "  <tbody>\n",
       "    <tr>\n",
       "      <th>0</th>\n",
       "      <td>공사종류 대분류 '건축', 중분류 '건축물' 공사 중 공종 대분류 '건축', 중분류...</td>\n",
       "      <td>고소작업 시 추락 위험이 있는 부위에 안전장비 설치.</td>\n",
       "    </tr>\n",
       "    <tr>\n",
       "      <th>1</th>\n",
       "      <td>공사종류 대분류 '토목', 중분류 '터널' 공사 중 공종 대분류 '토목', 중분류 ...</td>\n",
       "      <td>재발 방지 대책 마련과 안전교육 실시.</td>\n",
       "    </tr>\n",
       "    <tr>\n",
       "      <th>2</th>\n",
       "      <td>공사종류 대분류 '건축', 중분류 '건축물' 공사 중 공종 대분류 '건축', 중분류...</td>\n",
       "      <td>현장자재 정리와 안전관리 철저를 통한 재발 방지 대책 및 공문 발송을 통한 향후 조...</td>\n",
       "    </tr>\n",
       "    <tr>\n",
       "      <th>3</th>\n",
       "      <td>공사종류 대분류 '토목', 중분류 '하천' 공사 중 공종 대분류 '토목', 중분류 ...</td>\n",
       "      <td>위험성 평가 및 교육을 통해 작업장 내 위험요인과 안전수칙을 근로자에게 전파하고, ...</td>\n",
       "    </tr>\n",
       "    <tr>\n",
       "      <th>4</th>\n",
       "      <td>공사종류 대분류 '건축', 중분류 '건축물' 공사 중 공종 대분류 '건축', 중분류...</td>\n",
       "      <td>자재 정리 작업 시 세부 작업 방법에 대한 교육 실시와 작업 구간 이동 경로 점검 ...</td>\n",
       "    </tr>\n",
       "  </tbody>\n",
       "</table>\n",
       "</div>"
      ],
      "text/plain": [
       "                                            question  \\\n",
       "0  공사종류 대분류 '건축', 중분류 '건축물' 공사 중 공종 대분류 '건축', 중분류...   \n",
       "1  공사종류 대분류 '토목', 중분류 '터널' 공사 중 공종 대분류 '토목', 중분류 ...   \n",
       "2  공사종류 대분류 '건축', 중분류 '건축물' 공사 중 공종 대분류 '건축', 중분류...   \n",
       "3  공사종류 대분류 '토목', 중분류 '하천' 공사 중 공종 대분류 '토목', 중분류 ...   \n",
       "4  공사종류 대분류 '건축', 중분류 '건축물' 공사 중 공종 대분류 '건축', 중분류...   \n",
       "\n",
       "                                              answer  \n",
       "0                      고소작업 시 추락 위험이 있는 부위에 안전장비 설치.  \n",
       "1                              재발 방지 대책 마련과 안전교육 실시.  \n",
       "2  현장자재 정리와 안전관리 철저를 통한 재발 방지 대책 및 공문 발송을 통한 향후 조...  \n",
       "3  위험성 평가 및 교육을 통해 작업장 내 위험요인과 안전수칙을 근로자에게 전파하고, ...  \n",
       "4  자재 정리 작업 시 세부 작업 방법에 대한 교육 실시와 작업 구간 이동 경로 점검 ...  "
      ]
     },
     "execution_count": 8,
     "metadata": {},
     "output_type": "execute_result"
    }
   ],
   "source": [
    "combined_training_data.head()"
   ]
  },
  {
   "cell_type": "code",
   "execution_count": 8,
   "id": "b4b47aa1",
   "metadata": {},
   "outputs": [
    {
     "name": "stderr",
     "output_type": "stream",
     "text": [
      "/tmp/ipykernel_2703919/3267218402.py:12: LangChainDeprecationWarning: The class `HuggingFaceEmbeddings` was deprecated in LangChain 0.2.2 and will be removed in 1.0. An updated version of the class exists in the :class:`~langchain-huggingface package and should be used instead. To use it run `pip install -U :class:`~langchain-huggingface` and import as `from :class:`~langchain_huggingface import HuggingFaceEmbeddings``.\n",
      "  embedding = HuggingFaceEmbeddings(model_name=embedding_model_name)\n"
     ]
    }
   ],
   "source": [
    "# Train 데이터 준비\n",
    "train_questions_prevention = combined_training_data['question'].tolist()\n",
    "train_answers_prevention = combined_training_data['answer'].tolist()\n",
    "\n",
    "train_documents = [\n",
    "    f\"Q: {q1}\\nA: {a1}\" \n",
    "    for q1, a1 in zip(train_questions_prevention, train_answers_prevention)\n",
    "]\n",
    "\n",
    "# 임베딩 생성\n",
    "embedding_model_name = \"jhgan/ko-sbert-nli\"  # 임베딩 모델 선택\n",
    "embedding = HuggingFaceEmbeddings(model_name=embedding_model_name)\n",
    "\n",
    "# 벡터 스토어에 문서 추가\n",
    "csv_vector_store = FAISS.from_texts(train_documents, embedding)\n",
    "\n",
    "# # 1. 임베딩 모델과 Chroma 벡터 스토어 로드 (PDF 문서 기반)\n",
    "# embedding = HuggingFaceEmbeddings(model_name=\"jhgan/ko-sbert-nli\")\n",
    "# pdf_vector_store = Chroma(\n",
    "#     persist_directory=\"db/chroma_construction_db_v2\", \n",
    "#     embedding_function=embedding\n",
    "# )"
   ]
  },
  {
   "cell_type": "code",
   "execution_count": null,
   "id": "1334e88b",
   "metadata": {},
   "outputs": [],
   "source": [
    "embeddings = HuggingFaceEmbeddings(\n",
    "    model_name='jhgan/ko-sbert-sts'\n",
    ")\n",
    "# 저장된 FAISS DB 로드\n",
    "pdf_vector_store = FAISS.load_local(\n",
    "    \"/home/wanted-1/potenup-workspace/Project/dacon/DACON-construction-accident-prevention/code/JaeSik/db\",\n",
    "    embeddings,\n",
    "    allow_dangerous_deserialization=True  \n",
    ")"
   ]
  },
  {
   "cell_type": "code",
   "execution_count": null,
   "id": "1b895f09",
   "metadata": {},
   "outputs": [],
   "source": [
    "# from langchain.text_splitter import RecursiveCharacterTextSplitter\n",
    "# from langchain.document_loaders import PyPDFLoader\n",
    "# import os\n",
    "# import pandas as pd\n",
    "\n",
    "# ###  PDF 데이터 처리 및 Vector Store 저장\n",
    "# def load_pdfs_from_folder(pdf_folder):\n",
    "#     \"\"\"폴더 내 모든 PDF 문서를 LangChain을 통해 로드\"\"\"\n",
    "#     pdf_documents = []\n",
    "    \n",
    "#     for pdf_file in os.listdir(pdf_folder):\n",
    "#         if pdf_file.endswith(\".pdf\"):\n",
    "#             pdf_path = os.path.join(pdf_folder, pdf_file)\n",
    "#             loader = PyPDFLoader(pdf_path)  # LangChain PDF 로더\n",
    "#             pdf_documents.extend(loader.load())  # 문서 추가\n",
    "\n",
    "#     return pdf_documents\n",
    "\n",
    "# # PDF 데이터 로드\n",
    "# pdf_folder_path = \"../../data/pdf\"\n",
    "# pdf_docs = load_pdfs_from_folder(pdf_folder_path)\n",
    "\n",
    "# # 문서 분할 (Chunking) 수행\n",
    "# text_splitter = RecursiveCharacterTextSplitter(\n",
    "#     chunk_size=500, chunk_overlap=100, separators = ['\\n\\n', '\\n', '.', ' ']\n",
    "# )\n",
    "# split_pdf_docs = text_splitter.split_documents(pdf_docs)\n",
    "\n",
    "# # PDF 데이터를 벡터화하여 FAISS 저장소 생성\n",
    "# pdf_vector_store = FAISS.from_documents(split_pdf_docs, embedding)"
   ]
  },
  {
   "cell_type": "markdown",
   "id": "fbc06705",
   "metadata": {},
   "source": [
    "# kanana ?"
   ]
  },
  {
   "cell_type": "code",
   "execution_count": null,
   "id": "8a4e7ff2",
   "metadata": {},
   "outputs": [],
   "source": [
    "# # 임베딩 생성\n",
    "# embedding_model_name = \"kakaocorp/kanana-nano-2.1b-embedding\"  # 임베딩 모델 선택\n",
    "# embedding = HuggingFaceEmbeddings(model_name=embedding_model_name)"
   ]
  },
  {
   "cell_type": "markdown",
   "id": "2533fc9f",
   "metadata": {},
   "source": [
    "# RAG chain 생성"
   ]
  },
  {
   "cell_type": "code",
   "execution_count": null,
   "id": "371d4e9e-fd99-4157-abab-a367a24fa269",
   "metadata": {},
   "outputs": [],
   "source": [
    "# import numpy as np\n",
    "# import string\n",
    "# from langchain.llms import Ollama\n",
    "# from langchain.prompts import PromptTemplate\n",
    "# from langchain.chains import RetrievalQA\n",
    "\n",
    "# # Cosine Similarity 산식\n",
    "# def cosine_similarity(a, b):\n",
    "#     dot_product = np.dot(a, b)\n",
    "#     norm_a = np.linalg.norm(a)\n",
    "#     norm_b = np.linalg.norm(b)\n",
    "#     return dot_product / (norm_a * norm_b) if norm_a != 0 and norm_b != 0 else 0\n",
    "\n",
    "# # 텍스트 정규화 함수: 소문자화 및 구두점 제거\n",
    "# def normalize_text(text):\n",
    "#     text = text.lower()\n",
    "#     text = text.translate(str.maketrans('', '', string.punctuation))\n",
    "#     return text.strip()\n",
    "\n",
    "# # 후보 답변들 간의 평균 자카드 유사도를 계산하는 함수\n",
    "# def average_similarity(candidate, candidates):\n",
    "#     total = 0\n",
    "#     count = 0\n",
    "#     for other in candidates:\n",
    "#         if candidate == other:\n",
    "#             continue\n",
    "#         total += cosine_similarity(candidate, other)\n",
    "#         count += 1\n",
    "#     return total / count if count > 0 else 0\n",
    "\n",
    "# # LLM 설정 (Ollama 사용)\n",
    "# llm = Ollama(model=\"gemma3:27b\", temperature=0)\n",
    "\n",
    "# # 개선된 프롬프트 템플릿\n",
    "# prompt_template = \"\"\"\n",
    "# ### 지침: 당신은 건설 안전 전문가입니다.\n",
    "# 답변은 반드시 핵심 용어와 주요 문구만을 사용하여 작성해야 합니다.\n",
    "# - 서론, 배경 설명, 부연 설명은 절대 포함하지 마세요.\n",
    "# - 최대 64 토큰 이내로 간결하게 작성하세요.\n",
    "# - 평가 기준(코사인 유사도)을 높이기 위해 정답과 동일하거나 유사한 단어를 사용하세요.\n",
    "# 예시: \"안전관리 시스템 강화, 사고 예방 프로토콜 개선\"\n",
    "\n",
    "# {context}\n",
    "\n",
    "# ### 질문:\n",
    "# {question}\n",
    "\n",
    "# [/INST]\n",
    "# \"\"\"\n",
    "\n",
    "# # 커스텀 프롬프트 생성\n",
    "# prompt = PromptTemplate(\n",
    "#     input_variables=[\"context\", \"question\"],\n",
    "#     template=prompt_template,\n",
    "# )\n",
    "\n",
    "# # Retriever 설정\n",
    "# retriever = csv_vector_store.as_retriever(search_type=\"similarity\", search_kwargs={\"k\": 5})\n",
    "\n",
    "# # RAG 체인 생성\n",
    "# qa_chain = RetrievalQA.from_chain_type(\n",
    "#     llm=llm,  \n",
    "#     chain_type=\"stuff\",  \n",
    "#     retriever=retriever,  \n",
    "#     return_source_documents=True,\n",
    "#     chain_type_kwargs={\"prompt\": prompt}\n",
    "# )"
   ]
  },
  {
   "cell_type": "code",
   "execution_count": 10,
   "id": "97b92dc7",
   "metadata": {},
   "outputs": [
    {
     "name": "stderr",
     "output_type": "stream",
     "text": [
      "/tmp/ipykernel_2703919/2950403386.py:41: LangChainDeprecationWarning: The class `Ollama` was deprecated in LangChain 0.3.1 and will be removed in 1.0.0. An updated version of the class exists in the :class:`~langchain-ollama package and should be used instead. To use it run `pip install -U :class:`~langchain-ollama` and import as `from :class:`~langchain_ollama import OllamaLLM``.\n",
      "  llm = Ollama(model=\"gemma3:27b\", temperature = 0)\n"
     ]
    }
   ],
   "source": [
    "from langchain.llms import Ollama\n",
    "from langchain.prompts import PromptTemplate\n",
    "from langchain.chains import RetrievalQA\n",
    "from langchain.retrievers import EnsembleRetriever\n",
    "from langchain.vectorstores import Chroma, FAISS\n",
    "from langchain.embeddings import HuggingFaceEmbeddings\n",
    "\n",
    "# 2. 각 소스별 retriever 생성 (각 소스에서 상위 3개 문서 검색)\n",
    "pdf_retriever = pdf_vector_store.as_retriever(search_type=\"similarity\", search_kwargs={\"k\": 5})\n",
    "train_retriever = csv_vector_store.as_retriever(search_type=\"similarity\", search_kwargs={\"k\": 5})\n",
    "\n",
    "# 3. 두 retriever를 EnsembleRetriever로 결합 (PDF에 80%, Train Q&A에 20% 가중치 부여)\n",
    "ensemble_retriever = EnsembleRetriever(\n",
    "    retrievers=[pdf_retriever, train_retriever],\n",
    "    weights=[0.8, 0.2]\n",
    ")\n",
    "\n",
    "# 4. RetrievalQA 체인에 사용할 프롬프트 템플릿 정의\n",
    "# refine 체인이 아닌 \"stuff\" 체인을 사용하며, 문서 전달 변수명을 \"context_str\"로 맞춥니다.\n",
    "prompt_template = \"\"\"\n",
    "{context_str}\n",
    "\n",
    "### 질문:\n",
    "{question}\n",
    "\n",
    "### 지침: 당신은 건설 안전 전문가입니다.\n",
    "테스트 데이터에 주어진 사고 상황에 대해, 검색된 문맥을 참고하여 무조건 핵심 대책을 예시처럼 간결하게 작성하세요.\n",
    "- 서론, 부연 설명 없이 핵심 단어와 문구만 포함합니다.\n",
    "- 최대 100 토큰 이내로만 간결하게 작성하세요.\n",
    "- 대책에 대한 상세 설명을 적지 말고 대책만 예시처럼 작성하세요.\n",
    "- 예시: \"안전관리 시스템 강화, 사고 예방 프로토콜 개선\"\n",
    "\n",
    "[/INST]\n",
    "\"\"\"\n",
    "prompt = PromptTemplate(\n",
    "    input_variables=[\"context_str\", \"question\"],\n",
    "    template=prompt_template,\n",
    ")\n",
    "\n",
    "# 5. LLM 및 RetrievalQA 체인 생성\n",
    "llm = Ollama(model=\"gemma3:27b\", temperature = 0)\n",
    "qa_chain_hybrid = RetrievalQA.from_chain_type(\n",
    "    llm=llm,\n",
    "    chain_type=\"stuff\",  \n",
    "    retriever=ensemble_retriever,\n",
    "    return_source_documents=True,\n",
    "    chain_type_kwargs={\n",
    "        \"prompt\": prompt,\n",
    "        \"document_variable_name\": \"context_str\"  # 프롬프트에서 사용한 변수명과 일치시킵니다.\n",
    "    }\n",
    ")"
   ]
  },
  {
   "cell_type": "code",
   "execution_count": null,
   "id": "4170fb2a",
   "metadata": {},
   "outputs": [
    {
     "name": "stderr",
     "output_type": "stream",
     "text": [
      "/tmp/ipykernel_3351794/2240958835.py:51: LangChainDeprecationWarning: The class `Ollama` was deprecated in LangChain 0.3.1 and will be removed in 1.0.0. An updated version of the class exists in the :class:`~langchain-ollama package and should be used instead. To use it run `pip install -U :class:`~langchain-ollama` and import as `from :class:`~langchain_ollama import OllamaLLM``.\n",
      "  llm = Ollama(model=\"gemma3:27b\", temperature=0)\n"
     ]
    }
   ],
   "source": [
    "# from langchain.llms import Ollama\n",
    "# from langchain.prompts import PromptTemplate\n",
    "# from langchain.chains import RetrievalQA\n",
    "# from langchain.retrievers import EnsembleRetriever\n",
    "# from langchain.vectorstores import Chroma, FAISS\n",
    "# from langchain.embeddings import HuggingFaceEmbeddings\n",
    "\n",
    "# # 1. retriever 설정 (similarity, k=3)\n",
    "# pdf_retriever = pdf_vector_store.as_retriever(search_type=\"similarity\", search_kwargs={\"k\": 3})\n",
    "# train_retriever = csv_vector_store.as_retriever(search_type=\"similarity\", search_kwargs={\"k\": 3})\n",
    "\n",
    "# ensemble_retriever = EnsembleRetriever(\n",
    "#     retrievers=[pdf_retriever, train_retriever],\n",
    "#     weights=[0.7, 0.3]\n",
    "# )\n",
    "\n",
    "# # 2. map 단계 프롬프트 (문서별 요약)\n",
    "# question_prompt_template = \"\"\"\n",
    "# {context_str}\n",
    "\n",
    "# ### 질문:\n",
    "# {question}\n",
    "\n",
    "# ### 지침: \n",
    "# - 당신은 건설 안전 전문가입니다.\n",
    "# - 위 문맥을 참고하여, 질문에 대한 핵심 대책을 간결하게 작성하세요.\n",
    "# - 예시: \"안전관리 시스템 강화, 사고 예방 프로토콜 개선\"\n",
    "# \"\"\"\n",
    "# question_prompt = PromptTemplate(\n",
    "#     input_variables=[\"context_str\", \"question\"],\n",
    "#     template=question_prompt_template,\n",
    "# )\n",
    "\n",
    "# # 3. reduce 단계 프롬프트 (최종 요약)\n",
    "# combine_prompt_template = \"\"\"\n",
    "# {summaries}\n",
    "\n",
    "# ### 지침 : \n",
    "# 당신은 건설 안전 전문가입니다.\n",
    "# 이것은 여러 문서에서 추출된 대책들입니다. 이 정보를 종합하여 가장 간결하고 핵심적인 대응 대책을 100 토큰 이내로 제시하세요.\n",
    "# - 예시: \"안전관리 시스템 강화, 사고 예방 프로토콜 개선\"\n",
    "\n",
    "# 최종 대책:\n",
    "# \"\"\"\n",
    "# combine_prompt = PromptTemplate(\n",
    "#     input_variables=[\"summaries\"],\n",
    "#     template=combine_prompt_template,\n",
    "# )\n",
    "\n",
    "# # 4. LLM 및 RetrievalQA 체인 생성\n",
    "# llm = Ollama(model=\"gemma3:27b\", temperature=0)\n",
    "\n",
    "# qa_chain_hybrid = RetrievalQA.from_chain_type(\n",
    "#     llm=llm,\n",
    "#     chain_type=\"map_reduce\",  # map_reduce 방식 지정\n",
    "#     retriever=ensemble_retriever,\n",
    "#     return_source_documents=True,\n",
    "#     chain_type_kwargs={\n",
    "#         \"question_prompt\": question_prompt,\n",
    "#         \"combine_prompt\": combine_prompt,\n",
    "#         \"map_reduce_document_variable_name\": \"context_str\"\n",
    "#     }\n",
    "# )"
   ]
  },
  {
   "cell_type": "code",
   "execution_count": 12,
   "id": "661c12c7",
   "metadata": {},
   "outputs": [],
   "source": [
    "from langchain.llms import Ollama\n",
    "from langchain.prompts import PromptTemplate\n",
    "from langchain.chains import RetrievalQA\n",
    "from langchain.retrievers import ContextualCompressionRetriever\n",
    "from langchain.vectorstores import Chroma, FAISS\n",
    "from langchain.embeddings import HuggingFaceEmbeddings\n",
    "from langchain.retrievers.document_compressors import CrossEncoderReranker\n",
    "from langchain_community.cross_encoders import HuggingFaceCrossEncoder\n",
    "\n",
    "# 2. 각 소스별 retriever 생성 (각 소스에서 상위 3개 문서 검색)\n",
    "pdf_retriever = pdf_vector_store.as_retriever(search_type=\"similarity\", search_kwargs={\"k\": 10})\n",
    "\n",
    "# 3. reranker 모델 및 압축기\n",
    "reranker_model = HuggingFaceCrossEncoder(model_name=\"Dongjin-kr/ko-reranker\")\n",
    "compressor = CrossEncoderReranker(model=reranker_model, top_n=3)\n",
    "\n",
    "# 4. Rerank 기반 retriever 생성\n",
    "rerank_retriever = ContextualCompressionRetriever(\n",
    "    base_compressor=compressor,\n",
    "    base_retriever=ensemble_retriever\n",
    ")\n",
    "\n",
    "# # 또는 아래처럼 문서만 보고 싶다면:\n",
    "# result = rerank_retriever.get_relevant_documents(\"공사종류 대분류 '건축', 중분류 '건축물' 공사 중 공종 대분류 '건축', 중분류 '수장공사' 작업에서 사고객체 '건설공구'(중분류: '공구류')와 관련된 사고가 발생했습니다. 작업 프로세스는 '절단작업'이며, 사고 원인은 '2024년 11월 6일 9시경 재해자가 혼자 세대 천정 작업 중 각도 절단기를 이용하여 목재 절단 후 정지 스위치를 작동 하였으나 방호덮개가 동시에 내려 와야 하지만 느리게 내려 오면서 재해자 오른손이 톱날에 스치면서 엄지손가락 베임 사고'입니다. 재발 방지 대책 및 향후 조치 계획은 무엇인가요?\")\n",
    "# print(result[0].page_content)\n",
    "\n",
    "# 4. RetrievalQA 체인에 사용할 프롬프트 템플릿 정의\n",
    "# refine 체인이 아닌 \"stuff\" 체인을 사용하며, 문서 전달 변수명을 \"context_str\"로 맞춥니다.\n",
    "prompt_template = \"\"\"\n",
    "{context_str}\n",
    "\n",
    "### 질문:\n",
    "{question}\n",
    "\n",
    "### 지침: 당신은 건설 안전 전문가입니다.\n",
    "테스트 데이터에 주어진 사고 상황에 대해, 검색된 문맥을 참고하여 무조건 핵심 대책을 예시처럼 간결하게 작성하세요.\n",
    "- 서론, 부연 설명 없이 핵심 단어와 문구만 포함합니다.\n",
    "- 최대 100 토큰 이하로만 간결하게 작성하세요.\n",
    "- 대책에 대한 상세 설명을 적지 말고 대책만 예시처럼 작성하세요.\n",
    "- 특수문자를 추가하지말고 예시처럼 대책을 쉼표(comma)로 나열하세요.\n",
    "- 예시: \"안전관리 시스템 강화, 사고 예방 프로토콜 개선\"\n",
    "- 검색된 문맥이 없다면 \"\"\n",
    "\n",
    "[/INST]\n",
    "\"\"\"\n",
    "\n",
    "prompt = PromptTemplate(\n",
    "    input_variables=[\"context_str\", \"question\"],\n",
    "    template=prompt_template,\n",
    ")\n",
    "\n",
    "# 5. LLM 및 RetrievalQA 체인 생성\n",
    "llm = Ollama(model=\"gemma3:27b\", temperature = 0)\n",
    "qa_chain_reranked = RetrievalQA.from_chain_type(\n",
    "    llm=llm,\n",
    "    chain_type=\"stuff\",\n",
    "    retriever=rerank_retriever,\n",
    "    return_source_documents=True,\n",
    "    chain_type_kwargs={\n",
    "        \"prompt\": prompt,\n",
    "        \"document_variable_name\": \"context_str\"\n",
    "    }\n",
    ")"
   ]
  },
  {
   "cell_type": "code",
   "execution_count": null,
   "id": "e8e82002",
   "metadata": {},
   "outputs": [
    {
     "data": {
      "text/plain": [
       "\"공사종류 대분류 '건축', 중분류 '건축물' 공사 중 공종 대분류 '건축', 중분류 '수장공사' 작업에서 사고객체 '건설공구'(중분류: '공구류')와 관련된 사고가 발생했습니다. 작업 프로세스는 '절단작업'이며, 사고 원인은 '2024년 11월 6일 9시경 재해자가 혼자 세대 천정 작업 중 각도 절단기를 이용하여 목재 절단 후 정지 스위치를 작동 하였으나 방호덮개가 동시에 내려 와야 하지만 느리게 내려 오면서 재해자 오른손이 톱날에 스치면서 엄지손가락 베임 사고'입니다. 재발 방지 대책 및 향후 조치 계획은 무엇인가요?\""
      ]
     },
     "execution_count": 42,
     "metadata": {},
     "output_type": "execute_result"
    }
   ],
   "source": [
    "question"
   ]
  },
  {
   "cell_type": "markdown",
   "id": "7b0b3640-3968-4c2b-a7d4-30f586fadd66",
   "metadata": {},
   "source": [
    "# Inference"
   ]
  },
  {
   "cell_type": "code",
   "execution_count": null,
   "id": "61b2d238",
   "metadata": {},
   "outputs": [],
   "source": [
    "# # 각 질문에 대해 여러 후보 답변을 생성하고, 후보들 간 평균 유사도가 가장 높은 답변을 최종 선택\n",
    "# num_candidates = 3  # 각 질문당 후보 답변 개수\n",
    "# test_results = []\n",
    "\n",
    "# print(\"테스트 실행 시작... 총 테스트 샘플 수:\", len(combined_test_data))\n",
    "\n",
    "# for idx, row in combined_test_data.iterrows():\n",
    "#     if (idx + 1) % 10 == 0 or idx == 0:\n",
    "#         print(f\"\\n[샘플 {idx + 1}/{len(combined_test_data)}] 진행 중...\")\n",
    "    \n",
    "#     question = row['question']\n",
    "    \n",
    "#     # 여러 후보 답변 생성\n",
    "#     candidate_answers = []\n",
    "#     for _ in range(num_candidates):\n",
    "#         result = qa_chain.invoke(question)\n",
    "#         candidate = normalize_text(result['result'])\n",
    "#         candidate_answers.append(candidate)\n",
    "    \n",
    "#     # 후보들 간의 평균 유사도를 계산하여 가장 일관성 높은 후보 선택\n",
    "#     avg_similarities = [average_similarity(candidate, candidate_answers) for candidate in candidate_answers]\n",
    "#     best_candidate = candidate_answers[np.argmax(avg_similarities)]\n",
    "    \n",
    "#     test_results.append(best_candidate)\n",
    "\n",
    "# print(\"\\n테스트 실행 완료! 총 결과 수:\", len(test_results))"
   ]
  },
  {
   "cell_type": "code",
   "execution_count": 13,
   "id": "7b187835",
   "metadata": {},
   "outputs": [
    {
     "name": "stdout",
     "output_type": "stream",
     "text": [
      "테스트 실행 시작... 총 테스트 샘플 수: 964\n"
     ]
    },
    {
     "name": "stderr",
     "output_type": "stream",
     "text": [
      "진행률:   0%|          | 0/964 [00:00<?, ?it/s]"
     ]
    },
    {
     "name": "stdout",
     "output_type": "stream",
     "text": [
      "\n",
      "[샘플 1/964] 진행 중...\n"
     ]
    },
    {
     "name": "stderr",
     "output_type": "stream",
     "text": [
      "진행률:   0%|          | 1/964 [00:03<1:01:27,  3.83s/it]"
     ]
    },
    {
     "name": "stdout",
     "output_type": "stream",
     "text": [
      "지반 조사 강화, 아웃트리거 설치 위치 재검토, 고임목 보강 기준 강화, 장비 무게중심 관리, 안전 교육 강화, 작업 전 점검 강화.\n"
     ]
    },
    {
     "name": "stderr",
     "output_type": "stream",
     "text": [
      "진행률:   1%|          | 5/964 [00:20<1:03:50,  3.99s/it]"
     ]
    },
    {
     "name": "stdout",
     "output_type": "stream",
     "text": [
      "작업 전 안전 점검 강화, 이동 경로 안전 확보, 안전 교육 강화, 작업 환경 정리 정돈.\n"
     ]
    },
    {
     "name": "stderr",
     "output_type": "stream",
     "text": [
      "진행률:   1%|          | 9/964 [00:35<1:00:29,  3.80s/it]"
     ]
    },
    {
     "name": "stdout",
     "output_type": "stream",
     "text": [
      "\n",
      "[샘플 10/964] 진행 중...\n"
     ]
    },
    {
     "name": "stderr",
     "output_type": "stream",
     "text": [
      "진행률:   1%|          | 10/964 [00:38<59:49,  3.76s/it] "
     ]
    },
    {
     "name": "stdout",
     "output_type": "stream",
     "text": [
      "작업 전 안전 점검 강화, 작업 공간 확보, 가설 구조물 안전 관리, 작업자 안전 교육, 통로 확보 및 정리정돈.\n"
     ]
    },
    {
     "name": "stderr",
     "output_type": "stream",
     "text": [
      "진행률:   2%|▏         | 15/964 [00:58<59:36,  3.77s/it]  "
     ]
    },
    {
     "name": "stdout",
     "output_type": "stream",
     "text": [
      "작업 통로 확보 및 정리정돈, 안전화 착용 확인, 작업 전 위험성 평가 실시, 순회점검 강화, 안전교육 및 작업지휘 강화.\n"
     ]
    },
    {
     "name": "stderr",
     "output_type": "stream",
     "text": [
      "진행률:   2%|▏         | 19/964 [01:16<1:09:11,  4.39s/it]"
     ]
    },
    {
     "name": "stdout",
     "output_type": "stream",
     "text": [
      "\n",
      "[샘플 20/964] 진행 중...\n"
     ]
    },
    {
     "name": "stderr",
     "output_type": "stream",
     "text": [
      "진행률:   2%|▏         | 20/964 [01:20<1:05:11,  4.14s/it]"
     ]
    },
    {
     "name": "stdout",
     "output_type": "stream",
     "text": [
      "2인1조 작업 절차 재정립, 상호 신호 방법 교육 강화, 작업 전 안전 점검 강화, 의사소통 시스템 개선.\n"
     ]
    },
    {
     "name": "stderr",
     "output_type": "stream",
     "text": [
      "진행률:   3%|▎         | 25/964 [01:39<1:00:57,  3.90s/it]"
     ]
    },
    {
     "name": "stdout",
     "output_type": "stream",
     "text": [
      "현장 사전조사 강화, 운반 경로 안전 점검, 작업 전 안전 교육, 가시설 설치 기준 준수, 안전 관리 시스템 강화.\n"
     ]
    },
    {
     "name": "stderr",
     "output_type": "stream",
     "text": [
      "진행률:   3%|▎         | 29/964 [01:55<1:02:38,  4.02s/it]"
     ]
    },
    {
     "name": "stdout",
     "output_type": "stream",
     "text": [
      "\n",
      "[샘플 30/964] 진행 중...\n"
     ]
    },
    {
     "name": "stderr",
     "output_type": "stream",
     "text": [
      "진행률:   3%|▎         | 30/964 [01:59<1:00:54,  3.91s/it]"
     ]
    },
    {
     "name": "stdout",
     "output_type": "stream",
     "text": [
      "크레인 작업 전 안전 점검 강화, 줄걸이 관리 철저, 작업 공간 확보, 안전 교육 및 작업자 숙지, 인접 시설물 안전 확보.\n"
     ]
    },
    {
     "name": "stderr",
     "output_type": "stream",
     "text": [
      "진행률:   4%|▎         | 35/964 [02:17<58:24,  3.77s/it]  "
     ]
    },
    {
     "name": "stdout",
     "output_type": "stream",
     "text": [
      "작업 전 위험성 평가, 작업 계획 수립, 안전 난간 설치, 안전대 착용, 작업 통로 확보, 관리 감독 강화, 안전 교육 실시.\n"
     ]
    },
    {
     "name": "stderr",
     "output_type": "stream",
     "text": [
      "진행률:   4%|▍         | 39/964 [02:33<1:00:04,  3.90s/it]"
     ]
    },
    {
     "name": "stdout",
     "output_type": "stream",
     "text": [
      "\n",
      "[샘플 40/964] 진행 중...\n"
     ]
    },
    {
     "name": "stderr",
     "output_type": "stream",
     "text": [
      "진행률:   4%|▍         | 40/964 [02:37<1:00:22,  3.92s/it]"
     ]
    },
    {
     "name": "stdout",
     "output_type": "stream",
     "text": [
      "신호 체계 재정립, 안전 교육 강화, 작업 전 안전 점검, 관리자 지시 철저.\n"
     ]
    },
    {
     "name": "stderr",
     "output_type": "stream",
     "text": [
      "진행률:   5%|▍         | 45/964 [02:55<57:19,  3.74s/it]  "
     ]
    },
    {
     "name": "stdout",
     "output_type": "stream",
     "text": [
      "안전교육 강화, 보호구 착용 철저, 작업 방법 개선, 현장 안전 점검.\n"
     ]
    },
    {
     "name": "stderr",
     "output_type": "stream",
     "text": [
      "진행률:   5%|▌         | 49/964 [03:12<58:43,  3.85s/it]  "
     ]
    },
    {
     "name": "stdout",
     "output_type": "stream",
     "text": [
      "\n",
      "[샘플 50/964] 진행 중...\n"
     ]
    },
    {
     "name": "stderr",
     "output_type": "stream",
     "text": [
      "진행률:   5%|▌         | 50/964 [03:16<58:43,  3.85s/it]"
     ]
    },
    {
     "name": "stdout",
     "output_type": "stream",
     "text": [
      "정비 이력 관리 강화, 교대작업 전후 점검 철저, 브레이크 성능 점검 강화, 건설기계 관리 시스템 개선, 안전교육 강화.\n"
     ]
    },
    {
     "name": "stderr",
     "output_type": "stream",
     "text": [
      "진행률:   6%|▌         | 55/964 [03:35<59:37,  3.94s/it]  "
     ]
    },
    {
     "name": "stdout",
     "output_type": "stream",
     "text": [
      "안전 교육 강화, 작업 전 안전 점검, 개인 보호구 착용 철저, 작업 환경 개선, 부주의 방지 교육, 안전 수칙 준수 강조.\n"
     ]
    },
    {
     "name": "stderr",
     "output_type": "stream",
     "text": [
      "진행률:   6%|▌         | 59/964 [03:51<59:46,  3.96s/it]"
     ]
    },
    {
     "name": "stdout",
     "output_type": "stream",
     "text": [
      "\n",
      "[샘플 60/964] 진행 중...\n"
     ]
    },
    {
     "name": "stderr",
     "output_type": "stream",
     "text": [
      "진행률:   6%|▌         | 60/964 [03:54<55:36,  3.69s/it]"
     ]
    },
    {
     "name": "stdout",
     "output_type": "stream",
     "text": [
      "안전거리 확보 강화, 양중 작업 안전 점검, 가시설 안전 관리 강화, 작업 전 안전 교육 실시.\n"
     ]
    },
    {
     "name": "stderr",
     "output_type": "stream",
     "text": [
      "진행률:   7%|▋         | 65/964 [04:14<57:03,  3.81s/it]  "
     ]
    },
    {
     "name": "stdout",
     "output_type": "stream",
     "text": [
      "안전교육 실시, 현장 정리정돈, 이동경로 확보, 부주의 방지 교육.\n"
     ]
    },
    {
     "name": "stderr",
     "output_type": "stream",
     "text": [
      "진행률:   7%|▋         | 69/964 [04:29<56:19,  3.78s/it]"
     ]
    },
    {
     "name": "stdout",
     "output_type": "stream",
     "text": [
      "\n",
      "[샘플 70/964] 진행 중...\n"
     ]
    },
    {
     "name": "stderr",
     "output_type": "stream",
     "text": [
      "진행률:   7%|▋         | 70/964 [04:33<55:05,  3.70s/it]"
     ]
    },
    {
     "name": "stdout",
     "output_type": "stream",
     "text": [
      "현장 정리정돈 강화, 작업 전 안전 점검 실시, 작업 공간 확보, 미끄럼 방지 대책 마련.\n"
     ]
    },
    {
     "name": "stderr",
     "output_type": "stream",
     "text": [
      "진행률:   8%|▊         | 75/964 [04:53<58:02,  3.92s/it]  "
     ]
    },
    {
     "name": "stdout",
     "output_type": "stream",
     "text": [
      "작업 계획 준수 교육, 불안전한 행동 교정, 작업 전 안전 점검 강화, 관리감독자 현장 지휘 강화.\n"
     ]
    },
    {
     "name": "stderr",
     "output_type": "stream",
     "text": [
      "진행률:   8%|▊         | 79/964 [05:08<54:47,  3.72s/it]"
     ]
    },
    {
     "name": "stdout",
     "output_type": "stream",
     "text": [
      "\n",
      "[샘플 80/964] 진행 중...\n"
     ]
    },
    {
     "name": "stderr",
     "output_type": "stream",
     "text": [
      "진행률:   8%|▊         | 80/964 [05:11<54:31,  3.70s/it]"
     ]
    },
    {
     "name": "stdout",
     "output_type": "stream",
     "text": [
      "안전수칙 재교육 및 상시 점검, 2인 1조 작업 및 안전대 착용 의무화, 작업 전 안전 점검 강화, 안전 관리 감독 강화.\n"
     ]
    },
    {
     "name": "stderr",
     "output_type": "stream",
     "text": [
      "진행률:   9%|▉         | 85/964 [05:32<58:33,  4.00s/it]"
     ]
    },
    {
     "name": "stdout",
     "output_type": "stream",
     "text": [
      "작업 통로 확보, 안전시설 설치 확인, 데크 고정, 현장 안전 점검, 작업 전 안전 교육.\n"
     ]
    },
    {
     "name": "stderr",
     "output_type": "stream",
     "text": [
      "진행률:   9%|▉         | 89/964 [05:47<55:04,  3.78s/it]"
     ]
    },
    {
     "name": "stdout",
     "output_type": "stream",
     "text": [
      "\n",
      "[샘플 90/964] 진행 중...\n"
     ]
    },
    {
     "name": "stderr",
     "output_type": "stream",
     "text": [
      "진행률:   9%|▉         | 90/964 [05:51<56:38,  3.89s/it]"
     ]
    },
    {
     "name": "stdout",
     "output_type": "stream",
     "text": [
      "인양 장비 점검 강화, 작업 전 안전 교육 철저, 안전 장구 착용 의무화, 작업 공간 확보 및 통제, 인양 작업 시 감시인 배치.\n"
     ]
    },
    {
     "name": "stderr",
     "output_type": "stream",
     "text": [
      "진행률:  10%|▉         | 95/964 [06:11<57:41,  3.98s/it]  "
     ]
    },
    {
     "name": "stdout",
     "output_type": "stream",
     "text": [
      "비계 안전 점검 강화, 작업자 안전 교육 강화, 작업 전 안전 계획 수립, 작업 발판 안전 확보, 안전모 착용 철저, 동료 작업자 간 소통 강화.\n"
     ]
    },
    {
     "name": "stderr",
     "output_type": "stream",
     "text": [
      "진행률:  10%|█         | 99/964 [06:29<1:00:10,  4.17s/it]"
     ]
    },
    {
     "name": "stdout",
     "output_type": "stream",
     "text": [
      "\n",
      "[샘플 100/964] 진행 중...\n"
     ]
    },
    {
     "name": "stderr",
     "output_type": "stream",
     "text": [
      "진행률:  10%|█         | 100/964 [06:32<58:01,  4.03s/it] "
     ]
    },
    {
     "name": "stdout",
     "output_type": "stream",
     "text": [
      "미끄럼 방지 대책 강화, 작업 발판 점검, 안전모 착용 확인, 작업 전 안전 교육 실시, 현장 정리 정돈, 미끄럼 방지화 지급.\n"
     ]
    },
    {
     "name": "stderr",
     "output_type": "stream",
     "text": [
      "진행률:  11%|█         | 105/964 [06:51<55:00,  3.84s/it]"
     ]
    },
    {
     "name": "stdout",
     "output_type": "stream",
     "text": [
      "안전교육 강화, 작업 전 위험성 평가, 현장 점검 강화, 개인 안전 수칙 준수 강조.\n"
     ]
    },
    {
     "name": "stderr",
     "output_type": "stream",
     "text": [
      "진행률:  11%|█▏        | 109/964 [07:07<56:29,  3.96s/it]"
     ]
    },
    {
     "name": "stdout",
     "output_type": "stream",
     "text": [
      "\n",
      "[샘플 110/964] 진행 중...\n"
     ]
    },
    {
     "name": "stderr",
     "output_type": "stream",
     "text": [
      "진행률:  11%|█▏        | 110/964 [07:09<51:11,  3.60s/it]"
     ]
    },
    {
     "name": "stdout",
     "output_type": "stream",
     "text": [
      "안전고리 잠금 확인, 와이어로프 점검 강화, 고소 작업 안전 교육, 작업 전 안전 점검 실시.\n"
     ]
    },
    {
     "name": "stderr",
     "output_type": "stream",
     "text": [
      "진행률:  12%|█▏        | 115/964 [07:23<40:31,  2.86s/it]"
     ]
    },
    {
     "name": "stdout",
     "output_type": "stream",
     "text": [
      "안전모 일체형 보안경 착용 의무화, 보안경 착용 상태 점검 강화, 작업 전 안전 교육 실시, 비산물 방지 대책 수립.\n"
     ]
    },
    {
     "name": "stderr",
     "output_type": "stream",
     "text": [
      "진행률:  12%|█▏        | 119/964 [07:34<40:57,  2.91s/it]"
     ]
    },
    {
     "name": "stdout",
     "output_type": "stream",
     "text": [
      "\n",
      "[샘플 120/964] 진행 중...\n"
     ]
    },
    {
     "name": "stderr",
     "output_type": "stream",
     "text": [
      "진행률:  12%|█▏        | 120/964 [07:37<40:52,  2.91s/it]"
     ]
    },
    {
     "name": "stdout",
     "output_type": "stream",
     "text": [
      "갱폼 설치/해체 절차 준수, 갱폼 유닛 고정 상태 점검, 인양 장비 안전 점검, 작업자 안전 교육 강화, 관리 감독 강화.\n"
     ]
    },
    {
     "name": "stderr",
     "output_type": "stream",
     "text": [
      "진행률:  13%|█▎        | 125/964 [07:55<50:54,  3.64s/it]"
     ]
    },
    {
     "name": "stdout",
     "output_type": "stream",
     "text": [
      "안전교육 강화, 거푸집 해체 방법 재정립, 작업 전 안전 점검, 보호구 착용 철저, 현장 정리정돈, 작업 공간 확보.\n"
     ]
    },
    {
     "name": "stderr",
     "output_type": "stream",
     "text": [
      "진행률:  13%|█▎        | 129/964 [08:09<49:23,  3.55s/it]"
     ]
    },
    {
     "name": "stdout",
     "output_type": "stream",
     "text": [
      "\n",
      "[샘플 130/964] 진행 중...\n"
     ]
    },
    {
     "name": "stderr",
     "output_type": "stream",
     "text": [
      "진행률:  13%|█▎        | 130/964 [08:12<49:18,  3.55s/it]"
     ]
    },
    {
     "name": "stdout",
     "output_type": "stream",
     "text": [
      "안전교육 강화, 지정 통로 준수 교육, 작업 경로 점검, 안전 난간 설치, 위험 요소 제거.\n"
     ]
    },
    {
     "name": "stderr",
     "output_type": "stream",
     "text": [
      "진행률:  14%|█▍        | 135/964 [08:31<52:00,  3.76s/it]"
     ]
    },
    {
     "name": "stdout",
     "output_type": "stream",
     "text": [
      "결빙 제거 작업 실시, 작업 전 안전 점검 강화, 미끄럼 방지 대책 마련, 안전 교육 실시, 관리감독자 배치.\n"
     ]
    },
    {
     "name": "stderr",
     "output_type": "stream",
     "text": [
      "진행률:  14%|█▍        | 139/964 [08:46<53:06,  3.86s/it]"
     ]
    },
    {
     "name": "stdout",
     "output_type": "stream",
     "text": [
      "\n",
      "[샘플 140/964] 진행 중...\n"
     ]
    },
    {
     "name": "stderr",
     "output_type": "stream",
     "text": [
      "진행률:  15%|█▍        | 140/964 [08:51<56:03,  4.08s/it]"
     ]
    },
    {
     "name": "stdout",
     "output_type": "stream",
     "text": [
      "회전체 접근 금지 교육, 안전 수칙 준수 교육, 작업 전 안전 점검 강화, 안전 장갑 착용 의무화, 작업 집중도 향상 교육.\n"
     ]
    },
    {
     "name": "stderr",
     "output_type": "stream",
     "text": [
      "진행률:  15%|█▌        | 145/964 [09:13<1:02:07,  4.55s/it]"
     ]
    },
    {
     "name": "stdout",
     "output_type": "stream",
     "text": [
      "장비 운전원-신호수 체계 재정립, 안전 교육 강화, 작업 전 안전 점검 철저, 의사소통 시스템 개선.\n"
     ]
    },
    {
     "name": "stderr",
     "output_type": "stream",
     "text": [
      "진행률:  15%|█▌        | 149/964 [09:28<52:25,  3.86s/it]  "
     ]
    },
    {
     "name": "stdout",
     "output_type": "stream",
     "text": [
      "\n",
      "[샘플 150/964] 진행 중...\n"
     ]
    },
    {
     "name": "stderr",
     "output_type": "stream",
     "text": [
      "진행률:  16%|█▌        | 150/964 [09:33<56:02,  4.13s/it]"
     ]
    },
    {
     "name": "stdout",
     "output_type": "stream",
     "text": [
      "이동식 사다리 점검 강화, 작업 전 안전 교육 실시, 2인 1조 작업, 사다리 하부 고정, 작업 계획 수립.\n"
     ]
    },
    {
     "name": "stderr",
     "output_type": "stream",
     "text": [
      "진행률:  16%|█▌        | 155/964 [09:53<54:59,  4.08s/it]"
     ]
    },
    {
     "name": "stdout",
     "output_type": "stream",
     "text": [
      "2인 1조 작업 철저, 중량물 운반 장비 점검, 작업 전 안전 교육 강화, 작업 경로 장애물 제거, 안전 관리자 지도 강화.\n"
     ]
    },
    {
     "name": "stderr",
     "output_type": "stream",
     "text": [
      "진행률:  16%|█▋        | 159/964 [10:08<50:51,  3.79s/it]"
     ]
    },
    {
     "name": "stdout",
     "output_type": "stream",
     "text": [
      "\n",
      "[샘플 160/964] 진행 중...\n"
     ]
    },
    {
     "name": "stderr",
     "output_type": "stream",
     "text": [
      "진행률:  17%|█▋        | 160/964 [10:12<53:06,  3.96s/it]"
     ]
    },
    {
     "name": "stdout",
     "output_type": "stream",
     "text": [
      "안전교육 강화, 사다리 작업 안전수칙 준수, 이동 시 안전 확보, 작업 전 위험성 평가, 현장 감시 강화.\n"
     ]
    },
    {
     "name": "stderr",
     "output_type": "stream",
     "text": [
      "진행률:  17%|█▋        | 165/964 [10:32<54:11,  4.07s/it]"
     ]
    },
    {
     "name": "stdout",
     "output_type": "stream",
     "text": [
      "작업 전 안전점검 강화, 건설장비 작업반경 확보, 작업자 안전교육 강화, 밀착 안전관리, 위험요소 제거, 작업 전후 점검 철저.\n"
     ]
    },
    {
     "name": "stderr",
     "output_type": "stream",
     "text": [
      "진행률:  18%|█▊        | 169/964 [10:48<53:18,  4.02s/it]"
     ]
    },
    {
     "name": "stdout",
     "output_type": "stream",
     "text": [
      "\n",
      "[샘플 170/964] 진행 중...\n"
     ]
    },
    {
     "name": "stderr",
     "output_type": "stream",
     "text": [
      "진행률:  18%|█▊        | 170/964 [10:52<53:05,  4.01s/it]"
     ]
    },
    {
     "name": "stdout",
     "output_type": "stream",
     "text": [
      "그라우팅 제거 재확인, 굴착 전 지반 조사 강화, 작업 전 안전 교육 재실시, 현장 안전 점검 강화.\n"
     ]
    },
    {
     "name": "stderr",
     "output_type": "stream",
     "text": [
      "진행률:  18%|█▊        | 175/964 [11:13<54:59,  4.18s/it]"
     ]
    },
    {
     "name": "stdout",
     "output_type": "stream",
     "text": [
      "작업자 건강상태 체크, 위험성 평가 재실시, 안전 교육 강화, 작업 환경 개선, 소통 활성화.\n"
     ]
    },
    {
     "name": "stderr",
     "output_type": "stream",
     "text": [
      "진행률:  19%|█▊        | 179/964 [11:31<56:20,  4.31s/it]"
     ]
    },
    {
     "name": "stdout",
     "output_type": "stream",
     "text": [
      "\n",
      "[샘플 180/964] 진행 중...\n"
     ]
    },
    {
     "name": "stderr",
     "output_type": "stream",
     "text": [
      "진행률:  19%|█▊        | 180/964 [11:35<56:05,  4.29s/it]"
     ]
    },
    {
     "name": "stdout",
     "output_type": "stream",
     "text": [
      "현장 정리정돈 강화, 보행 통로 확보, 안전 교육 강화, 작업 전 위험성 평가, 2인 1조 작업, 성토사면 안전 점검.\n"
     ]
    },
    {
     "name": "stderr",
     "output_type": "stream",
     "text": [
      "진행률:  19%|█▉        | 185/964 [11:54<49:58,  3.85s/it]"
     ]
    },
    {
     "name": "stdout",
     "output_type": "stream",
     "text": [
      "철근 식별표시 강화, 위험정보 공유 확대, 작업 반경 내 공종 간 협의 강화, 안전 교육 및 현장 점검 강화.\n"
     ]
    },
    {
     "name": "stderr",
     "output_type": "stream",
     "text": [
      "진행률:  20%|█▉        | 189/964 [12:09<51:00,  3.95s/it]"
     ]
    },
    {
     "name": "stdout",
     "output_type": "stream",
     "text": [
      "\n",
      "[샘플 190/964] 진행 중...\n"
     ]
    },
    {
     "name": "stderr",
     "output_type": "stream",
     "text": [
      "진행률:  20%|█▉        | 190/964 [12:14<53:05,  4.12s/it]"
     ]
    },
    {
     "name": "stdout",
     "output_type": "stream",
     "text": [
      "불규칙 지면 정비, 신호수 지시 준수 교육, 안전교육 추가 실시, 미이행 시 퇴출 조치.\n"
     ]
    },
    {
     "name": "stderr",
     "output_type": "stream",
     "text": [
      "진행률:  20%|██        | 195/964 [12:34<54:31,  4.25s/it]"
     ]
    },
    {
     "name": "stdout",
     "output_type": "stream",
     "text": [
      "안전통로 확보 및 유지, 현장 정리정돈 강화, 작업자 안전교육 강화, 안전점검 강화, 관리감독자 책임 강화.\n"
     ]
    },
    {
     "name": "stderr",
     "output_type": "stream",
     "text": [
      "진행률:  21%|██        | 199/964 [12:52<57:00,  4.47s/it]"
     ]
    },
    {
     "name": "stdout",
     "output_type": "stream",
     "text": [
      "\n",
      "[샘플 200/964] 진행 중...\n"
     ]
    },
    {
     "name": "stderr",
     "output_type": "stream",
     "text": [
      "진행률:  21%|██        | 200/964 [12:55<53:36,  4.21s/it]"
     ]
    },
    {
     "name": "stdout",
     "output_type": "stream",
     "text": [
      "보안경 적합성 확인, 작업 전 보안경 착용 상태 점검, 안전교육 강화, 현장 안전점검 실시.\n"
     ]
    },
    {
     "name": "stderr",
     "output_type": "stream",
     "text": [
      "진행률:  21%|██▏       | 205/964 [13:17<54:37,  4.32s/it]"
     ]
    },
    {
     "name": "stdout",
     "output_type": "stream",
     "text": [
      "지정통로 이용 철저, 산업재해조사표 제출, 현장 안전관리 강화, 특별안전교육 실시, 작업지시 준수.\n"
     ]
    },
    {
     "name": "stderr",
     "output_type": "stream",
     "text": [
      "진행률:  22%|██▏       | 209/964 [13:32<48:26,  3.85s/it]"
     ]
    },
    {
     "name": "stdout",
     "output_type": "stream",
     "text": [
      "\n",
      "[샘플 210/964] 진행 중...\n"
     ]
    },
    {
     "name": "stderr",
     "output_type": "stream",
     "text": [
      "진행률:  22%|██▏       | 210/964 [13:36<49:46,  3.96s/it]"
     ]
    },
    {
     "name": "stdout",
     "output_type": "stream",
     "text": [
      "낙하물 방지망 해체 작업 안전 교육, 작업 전 안전 점검 강화, 추락 방지 안전 장비 착용, 작업 발판 안전 관리.\n"
     ]
    },
    {
     "name": "stderr",
     "output_type": "stream",
     "text": [
      "진행률:  22%|██▏       | 215/964 [13:56<51:18,  4.11s/it]"
     ]
    },
    {
     "name": "stdout",
     "output_type": "stream",
     "text": [
      "지반 보강, 사다리 설치 기준 강화, 작업 전 지반 상태 점검, 안전 교육 실시, 현장 안전 점검 강화.\n"
     ]
    },
    {
     "name": "stderr",
     "output_type": "stream",
     "text": [
      "진행률:  23%|██▎       | 219/964 [14:12<51:48,  4.17s/it]"
     ]
    },
    {
     "name": "stdout",
     "output_type": "stream",
     "text": [
      "\n",
      "[샘플 220/964] 진행 중...\n"
     ]
    },
    {
     "name": "stderr",
     "output_type": "stream",
     "text": [
      "진행률:  23%|██▎       | 220/964 [14:16<50:05,  4.04s/it]"
     ]
    },
    {
     "name": "stdout",
     "output_type": "stream",
     "text": [
      "체결 상태 점검 강화, 작업 자세 교정 교육, 무리한 동작 금지, 안전 장비 착용 확인.\n"
     ]
    },
    {
     "name": "stderr",
     "output_type": "stream",
     "text": [
      "진행률:  23%|██▎       | 225/964 [14:35<48:52,  3.97s/it]"
     ]
    },
    {
     "name": "stdout",
     "output_type": "stream",
     "text": [
      "망치 작업 시 보조 도구 사용, 형틀팀 특별안전교육, 지속적인 안전교육, 작업전 안전교육, 수시점검, 주변 장애물 인지 및 관리감독 철저, 즉시 보고체계 확립.\n"
     ]
    },
    {
     "name": "stderr",
     "output_type": "stream",
     "text": [
      "진행률:  24%|██▍       | 229/964 [14:53<51:01,  4.17s/it]"
     ]
    },
    {
     "name": "stdout",
     "output_type": "stream",
     "text": [
      "\n",
      "[샘플 230/964] 진행 중...\n"
     ]
    },
    {
     "name": "stderr",
     "output_type": "stream",
     "text": [
      "진행률:  24%|██▍       | 230/964 [14:58<54:16,  4.44s/it]"
     ]
    },
    {
     "name": "stdout",
     "output_type": "stream",
     "text": [
      "전공종 공사중지, 외부 시스템비계 보강작업 실시, 작업자 안전장구류 착용, 작업투입 전 안전교육 실시, 안전위해요소 시정지시 및 사고조사, 안전요소 보완계획 하달, 현장 내 작업발판 주기적 점검 및 보강, 말비계 이용 작업자 사전 주의교육 실시.\n"
     ]
    },
    {
     "name": "stderr",
     "output_type": "stream",
     "text": [
      "진행률:  24%|██▍       | 235/964 [15:19<52:37,  4.33s/it]"
     ]
    },
    {
     "name": "stdout",
     "output_type": "stream",
     "text": [
      "안전 장갑 착용 의무화, 작업 전 안전 교육 강화, 작업 공간 정리 정돈, 자재 이동 시 안전 수칙 준수, 손가락 협착 방지 장치 설치.\n"
     ]
    },
    {
     "name": "stderr",
     "output_type": "stream",
     "text": [
      "진행률:  25%|██▍       | 239/964 [15:36<51:14,  4.24s/it]"
     ]
    },
    {
     "name": "stdout",
     "output_type": "stream",
     "text": [
      "\n",
      "[샘플 240/964] 진행 중...\n"
     ]
    },
    {
     "name": "stderr",
     "output_type": "stream",
     "text": [
      "진행률:  25%|██▍       | 240/964 [15:40<50:26,  4.18s/it]"
     ]
    },
    {
     "name": "stdout",
     "output_type": "stream",
     "text": [
      "인력 지원 및 장비 사용, 2인 1조 작업, 작업 전 위험 요소 확인, 안전 교육 강화, 산재 조사 및 치료 지원.\n"
     ]
    },
    {
     "name": "stderr",
     "output_type": "stream",
     "text": [
      "진행률:  25%|██▌       | 245/964 [15:59<47:49,  3.99s/it]"
     ]
    },
    {
     "name": "stdout",
     "output_type": "stream",
     "text": [
      "사고사례 전파 및 특별 안전교육 실시, 동일 작업 전 확인 점검 실시, 관리감독자-근로자 회의, 위험요인 관리대책 수립, 안전관리 시스템 강화, 사고 예방 프로토콜 개선.\n"
     ]
    },
    {
     "name": "stderr",
     "output_type": "stream",
     "text": [
      "진행률:  26%|██▌       | 249/964 [16:13<43:53,  3.68s/it]"
     ]
    },
    {
     "name": "stdout",
     "output_type": "stream",
     "text": [
      "\n",
      "[샘플 250/964] 진행 중...\n"
     ]
    },
    {
     "name": "stderr",
     "output_type": "stream",
     "text": [
      "진행률:  26%|██▌       | 250/964 [16:18<47:59,  4.03s/it]"
     ]
    },
    {
     "name": "stdout",
     "output_type": "stream",
     "text": [
      "작업 계획 수립 및 사전 교육 강화, 임의 행위 방지 교육 및 관리 감독 강화, 안전 점검 강화, 위험성 평가 재실시, 작업 절차 준수 교육.\n"
     ]
    },
    {
     "name": "stderr",
     "output_type": "stream",
     "text": [
      "진행률:  26%|██▋       | 255/964 [16:36<43:56,  3.72s/it]"
     ]
    },
    {
     "name": "stdout",
     "output_type": "stream",
     "text": [
      "안전교육 강화, 작업 공간 정리정돈, 작업 전 안전 점검, 동료 작업자 간 의사소통, 안전 작업 절차 준수.\n"
     ]
    },
    {
     "name": "stderr",
     "output_type": "stream",
     "text": [
      "진행률:  27%|██▋       | 259/964 [16:53<49:03,  4.18s/it]"
     ]
    },
    {
     "name": "stdout",
     "output_type": "stream",
     "text": [
      "\n",
      "[샘플 260/964] 진행 중...\n"
     ]
    },
    {
     "name": "stderr",
     "output_type": "stream",
     "text": [
      "진행률:  27%|██▋       | 260/964 [16:58<52:14,  4.45s/it]"
     ]
    },
    {
     "name": "stdout",
     "output_type": "stream",
     "text": [
      "작업 중단구역 출입 통제 강화, 사전 작업 상태 확인 철저, 안전벨트 고리 체결 의무화, 협력업체 안전 교육 강화, 위험성 평가 재실시 및 적용.\n"
     ]
    },
    {
     "name": "stderr",
     "output_type": "stream",
     "text": [
      "진행률:  27%|██▋       | 265/964 [17:17<45:57,  3.94s/it]"
     ]
    },
    {
     "name": "stdout",
     "output_type": "stream",
     "text": [
      "안전작업 방법 교육, 불안전한 자세/동작 교정 교육, 작업 전 안전 점검 강화, 고령 작업자 안전 관리 강화.\n"
     ]
    },
    {
     "name": "stderr",
     "output_type": "stream",
     "text": [
      "진행률:  28%|██▊       | 269/964 [17:34<47:50,  4.13s/it]"
     ]
    },
    {
     "name": "stdout",
     "output_type": "stream",
     "text": [
      "\n",
      "[샘플 270/964] 진행 중...\n"
     ]
    },
    {
     "name": "stderr",
     "output_type": "stream",
     "text": [
      "진행률:  28%|██▊       | 270/964 [17:38<49:40,  4.30s/it]"
     ]
    },
    {
     "name": "stdout",
     "output_type": "stream",
     "text": [
      "안전대 착용 의무화, 작업 전 안전 점검 강화, 말비계 설치 및 사용 교육, 안전 난간 설치 및 점검, 작업 계획 수립 및 준수.\n"
     ]
    },
    {
     "name": "stderr",
     "output_type": "stream",
     "text": [
      "진행률:  29%|██▊       | 275/964 [18:00<48:54,  4.26s/it]"
     ]
    },
    {
     "name": "stdout",
     "output_type": "stream",
     "text": [
      "개인보호구 착용 철저, 추가 안전보호장구 검토, 작업 전 위험요소 확인, 안전교육 철저, 현장관리자 수시 순찰, 작업자 통제 강화, 벌목 작업 위험성 저감 대책 이행, 안전관리 시스템 강화.\n"
     ]
    },
    {
     "name": "stderr",
     "output_type": "stream",
     "text": [
      "진행률:  29%|██▉       | 279/964 [18:14<42:34,  3.73s/it]"
     ]
    },
    {
     "name": "stdout",
     "output_type": "stream",
     "text": [
      "\n",
      "[샘플 280/964] 진행 중...\n"
     ]
    },
    {
     "name": "stderr",
     "output_type": "stream",
     "text": [
      "진행률:  29%|██▉       | 280/964 [18:18<42:52,  3.76s/it]"
     ]
    },
    {
     "name": "stdout",
     "output_type": "stream",
     "text": [
      "지장물 정리정돈, 작업 전 안전 점검 강화, 안전교육 및 현장 계도, 통행로 확보 및 관리, 철근캡 설치 및 관리.\n"
     ]
    },
    {
     "name": "stderr",
     "output_type": "stream",
     "text": [
      "진행률:  30%|██▉       | 285/964 [18:39<47:19,  4.18s/it]"
     ]
    },
    {
     "name": "stdout",
     "output_type": "stream",
     "text": [
      "리프트 안전 점검, 작업 전 안전 교육, 미끄럼 방지 대책, 작업 발판 안전 강화, 관리감독자 배치.\n"
     ]
    },
    {
     "name": "stderr",
     "output_type": "stream",
     "text": [
      "진행률:  30%|██▉       | 289/964 [18:55<47:18,  4.21s/it]"
     ]
    },
    {
     "name": "stdout",
     "output_type": "stream",
     "text": [
      "\n",
      "[샘플 290/964] 진행 중...\n"
     ]
    },
    {
     "name": "stderr",
     "output_type": "stream",
     "text": [
      "진행률:  30%|███       | 290/964 [18:59<45:01,  4.01s/it]"
     ]
    },
    {
     "name": "stdout",
     "output_type": "stream",
     "text": [
      "바닥 확인 철저, 슬리브 위 말비계 설치 금지, 작업 전 안전 점검 강화, 재발 방지 안전 교육 실시.\n"
     ]
    },
    {
     "name": "stderr",
     "output_type": "stream",
     "text": [
      "진행률:  31%|███       | 295/964 [19:19<46:23,  4.16s/it]"
     ]
    },
    {
     "name": "stdout",
     "output_type": "stream",
     "text": [
      "자재 취급 교육 강화, 작업 방법 개선, 균형 유지 교육, 작업 공간 정리정돈, 안전 장비 착용, 관리감독 강화.\n"
     ]
    },
    {
     "name": "stderr",
     "output_type": "stream",
     "text": [
      "진행률:  31%|███       | 299/964 [19:38<51:51,  4.68s/it]"
     ]
    },
    {
     "name": "stdout",
     "output_type": "stream",
     "text": [
      "\n",
      "[샘플 300/964] 진행 중...\n"
     ]
    },
    {
     "name": "stderr",
     "output_type": "stream",
     "text": [
      "진행률:  31%|███       | 300/964 [19:42<49:58,  4.52s/it]"
     ]
    },
    {
     "name": "stdout",
     "output_type": "stream",
     "text": [
      "작업자 안전관리 철저, 안전교육 강화, 현장 안전지도, 재발 방지 대책 수립.\n"
     ]
    },
    {
     "name": "stderr",
     "output_type": "stream",
     "text": [
      "진행률:  32%|███▏      | 305/964 [20:04<48:20,  4.40s/it]"
     ]
    },
    {
     "name": "stdout",
     "output_type": "stream",
     "text": [
      "T.B.M. 활동 및 안전관리 강화, 작업순서 준수, 작업자 불안전 행동 금지, 안전교육 강화, 안전관리자 밀착 관리 실시.\n"
     ]
    },
    {
     "name": "stderr",
     "output_type": "stream",
     "text": [
      "진행률:  32%|███▏      | 309/964 [20:21<45:24,  4.16s/it]"
     ]
    },
    {
     "name": "stdout",
     "output_type": "stream",
     "text": [
      "\n",
      "[샘플 310/964] 진행 중...\n"
     ]
    },
    {
     "name": "stderr",
     "output_type": "stream",
     "text": [
      "진행률:  32%|███▏      | 310/964 [20:24<43:32,  4.00s/it]"
     ]
    },
    {
     "name": "stdout",
     "output_type": "stream",
     "text": [
      "안전교육 강화, 작업 전 안전 점검, 본인 부주의 방지 교육, 안전 수칙 준수 강조.\n"
     ]
    },
    {
     "name": "stderr",
     "output_type": "stream",
     "text": [
      "진행률:  33%|███▎      | 315/964 [20:45<44:58,  4.16s/it]"
     ]
    },
    {
     "name": "stdout",
     "output_type": "stream",
     "text": [
      "안전교육 강화, 작업계획서 제출 및 이행확인, 유도자 배치, 작업반경 내 접근금지 및 출입통제, 교육, 감독, 순회점검 및 관리 철저.\n"
     ]
    },
    {
     "name": "stderr",
     "output_type": "stream",
     "text": [
      "진행률:  33%|███▎      | 319/964 [20:59<38:26,  3.58s/it]"
     ]
    },
    {
     "name": "stdout",
     "output_type": "stream",
     "text": [
      "\n",
      "[샘플 320/964] 진행 중...\n"
     ]
    },
    {
     "name": "stderr",
     "output_type": "stream",
     "text": [
      "진행률:  33%|███▎      | 320/964 [21:03<39:11,  3.65s/it]"
     ]
    },
    {
     "name": "stdout",
     "output_type": "stream",
     "text": [
      "가설계단 안전 점검, 작업자 안전교육 강화, 이동 통로 안전 확보, 미끄럼 방지 조치, 안전 인식 개선 교육.\n"
     ]
    },
    {
     "name": "stderr",
     "output_type": "stream",
     "text": [
      "진행률:  34%|███▎      | 325/964 [21:22<40:09,  3.77s/it]"
     ]
    },
    {
     "name": "stdout",
     "output_type": "stream",
     "text": [
      "지반 정비 및 다짐, 경사로 안전 확보, 운전자 안전 교육, 현장 감독 강화, 건설기계 특별 안전 교육.\n"
     ]
    },
    {
     "name": "stderr",
     "output_type": "stream",
     "text": [
      "진행률:  34%|███▍      | 329/964 [21:39<42:36,  4.03s/it]"
     ]
    },
    {
     "name": "stdout",
     "output_type": "stream",
     "text": [
      "\n",
      "[샘플 330/964] 진행 중...\n"
     ]
    },
    {
     "name": "stderr",
     "output_type": "stream",
     "text": [
      "진행률:  34%|███▍      | 330/964 [21:43<42:40,  4.04s/it]"
     ]
    },
    {
     "name": "stdout",
     "output_type": "stream",
     "text": [
      "고소작업대 안전 점검 강화, 안전난간 설치 확인, 안전고리 체결 확인, 현장 안전관리 강화, 특별안전보건교육 실시, 작업 전 안전 확인.\n"
     ]
    },
    {
     "name": "stderr",
     "output_type": "stream",
     "text": [
      "진행률:  35%|███▍      | 335/964 [22:02<39:28,  3.77s/it]"
     ]
    },
    {
     "name": "stdout",
     "output_type": "stream",
     "text": [
      "위험성 평가 재실시, 작업 전 위험정보 공유 강화, 절토면 관리 강화, 안전 교육 강화, TBM 실시.\n"
     ]
    },
    {
     "name": "stderr",
     "output_type": "stream",
     "text": [
      "진행률:  35%|███▌      | 339/964 [22:17<40:30,  3.89s/it]"
     ]
    },
    {
     "name": "stdout",
     "output_type": "stream",
     "text": [
      "\n",
      "[샘플 340/964] 진행 중...\n"
     ]
    },
    {
     "name": "stderr",
     "output_type": "stream",
     "text": [
      "진행률:  35%|███▌      | 340/964 [22:23<45:19,  4.36s/it]"
     ]
    },
    {
     "name": "stdout",
     "output_type": "stream",
     "text": [
      "신호수-작업자 소통 강화, 작업 전 안전 점검, 크레인 작동 전 확인, 안전 교육 강화, 무전기 통신 점검.\n"
     ]
    },
    {
     "name": "stderr",
     "output_type": "stream",
     "text": [
      "진행률:  36%|███▌      | 345/964 [22:44<43:22,  4.20s/it]"
     ]
    },
    {
     "name": "stdout",
     "output_type": "stream",
     "text": [
      "작업구간 위험 요소 확인, 2인 1조 운반 실시, 안전교육 및 관리감독 확인, 부주의로 인한 안전사고 경각심 인지 교육.\n"
     ]
    },
    {
     "name": "stderr",
     "output_type": "stream",
     "text": [
      "진행률:  36%|███▌      | 349/964 [22:59<39:26,  3.85s/it]"
     ]
    },
    {
     "name": "stdout",
     "output_type": "stream",
     "text": [
      "\n",
      "[샘플 350/964] 진행 중...\n"
     ]
    },
    {
     "name": "stderr",
     "output_type": "stream",
     "text": [
      "진행률:  36%|███▋      | 350/964 [23:04<41:43,  4.08s/it]"
     ]
    },
    {
     "name": "stdout",
     "output_type": "stream",
     "text": [
      "작업 방식 개선, 근로자 교육 강화, 호이스트 주변 정리정돈, 수동 운반 최소화, 안전 장비 지급, 정기 안전 점검 실시.\n"
     ]
    },
    {
     "name": "stderr",
     "output_type": "stream",
     "text": [
      "진행률:  37%|███▋      | 355/964 [23:23<38:57,  3.84s/it]"
     ]
    },
    {
     "name": "stdout",
     "output_type": "stream",
     "text": [
      "작업 전 위험 요소 제거, 작업 공간 정비, 안전화 착용, 신호수 교육 강화.\n"
     ]
    },
    {
     "name": "stderr",
     "output_type": "stream",
     "text": [
      "진행률:  37%|███▋      | 359/964 [23:40<40:11,  3.99s/it]"
     ]
    },
    {
     "name": "stdout",
     "output_type": "stream",
     "text": [
      "\n",
      "[샘플 360/964] 진행 중...\n"
     ]
    },
    {
     "name": "stderr",
     "output_type": "stream",
     "text": [
      "진행률:  37%|███▋      | 360/964 [23:44<39:57,  3.97s/it]"
     ]
    },
    {
     "name": "stdout",
     "output_type": "stream",
     "text": [
      "작업 발판 설치 및 점검 강화, 미끄럼 방지 대책 마련, 안전대 착용 의무화, 작업 공간 정리정돈, 안전 교육 강화, 관리감독자 순찰 강화.\n"
     ]
    },
    {
     "name": "stderr",
     "output_type": "stream",
     "text": [
      "진행률:  38%|███▊      | 365/964 [24:05<40:52,  4.09s/it]"
     ]
    },
    {
     "name": "stdout",
     "output_type": "stream",
     "text": [
      "안전교육 강화, 시스템 동바리 설치 절차 준수, 현장 순찰 강화, 위험성 평가 실시, 보호구 착용 확인.\n"
     ]
    },
    {
     "name": "stderr",
     "output_type": "stream",
     "text": [
      "진행률:  38%|███▊      | 369/964 [24:21<41:01,  4.14s/it]"
     ]
    },
    {
     "name": "stdout",
     "output_type": "stream",
     "text": [
      "\n",
      "[샘플 370/964] 진행 중...\n"
     ]
    },
    {
     "name": "stderr",
     "output_type": "stream",
     "text": [
      "진행률:  38%|███▊      | 370/964 [24:25<39:49,  4.02s/it]"
     ]
    },
    {
     "name": "stdout",
     "output_type": "stream",
     "text": [
      "시스템 비계 점검 강화, 안전대 착용 의무화, 고소 작업 교육 강화, 작업 전 안전 점검 실시, TBM 시 사고 사례 전파.\n"
     ]
    },
    {
     "name": "stderr",
     "output_type": "stream",
     "text": [
      "진행률:  39%|███▉      | 375/964 [24:47<42:26,  4.32s/it]"
     ]
    },
    {
     "name": "stdout",
     "output_type": "stream",
     "text": [
      "전동공구 전원차단 확인, 운반 전 안전 점검, 안전 교육 강화, 작업 전 안전 수칙 재확인.\n"
     ]
    },
    {
     "name": "stderr",
     "output_type": "stream",
     "text": [
      "진행률:  39%|███▉      | 379/964 [25:03<41:27,  4.25s/it]"
     ]
    },
    {
     "name": "stdout",
     "output_type": "stream",
     "text": [
      "\n",
      "[샘플 380/964] 진행 중...\n"
     ]
    },
    {
     "name": "stderr",
     "output_type": "stream",
     "text": [
      "진행률:  39%|███▉      | 380/964 [25:08<42:53,  4.41s/it]"
     ]
    },
    {
     "name": "stdout",
     "output_type": "stream",
     "text": [
      "위험성 평가 강화, 작업 전 점검 철저, 안전보호구 착용 확인, 작업 순서 준수, 작업 공간 확보, 배관 점검 및 보강, 압력 관리, 작업 전 안전 교육.\n"
     ]
    },
    {
     "name": "stderr",
     "output_type": "stream",
     "text": [
      "진행률:  40%|███▉      | 385/964 [25:29<40:32,  4.20s/it]"
     ]
    },
    {
     "name": "stdout",
     "output_type": "stream",
     "text": [
      "작업 프로세스 명확화, 작업자별 작업 내용 확인, 안전교육 강화, 현장 감시 강화, 재해 원인 분석 및 대책 수립.\n"
     ]
    },
    {
     "name": "stderr",
     "output_type": "stream",
     "text": [
      "진행률:  40%|████      | 389/964 [25:45<38:51,  4.05s/it]"
     ]
    },
    {
     "name": "stdout",
     "output_type": "stream",
     "text": [
      "\n",
      "[샘플 390/964] 진행 중...\n"
     ]
    },
    {
     "name": "stderr",
     "output_type": "stream",
     "text": [
      "진행률:  40%|████      | 390/964 [25:49<38:23,  4.01s/it]"
     ]
    },
    {
     "name": "stdout",
     "output_type": "stream",
     "text": [
      "사고 사례 전파 및 교육, 현장 정리 철저, 작업 전 위험 요소 확인, 안전 작업 절차 준수, 개인 보호구 착용, 마대 등 자재 관리 강화.\n"
     ]
    },
    {
     "name": "stderr",
     "output_type": "stream",
     "text": [
      "진행률:  41%|████      | 395/964 [26:09<37:32,  3.96s/it]"
     ]
    },
    {
     "name": "stdout",
     "output_type": "stream",
     "text": [
      "말비계 설치 상태 점검 강화, 작업 전 안전 교육 실시, 현장 관리 철저 지시, 불안전한 행동 교정 교육.\n"
     ]
    },
    {
     "name": "stderr",
     "output_type": "stream",
     "text": [
      "진행률:  41%|████▏     | 399/964 [26:25<37:28,  3.98s/it]"
     ]
    },
    {
     "name": "stdout",
     "output_type": "stream",
     "text": [
      "\n",
      "[샘플 400/964] 진행 중...\n"
     ]
    },
    {
     "name": "stderr",
     "output_type": "stream",
     "text": [
      "진행률:  41%|████▏     | 400/964 [26:29<37:50,  4.03s/it]"
     ]
    },
    {
     "name": "stdout",
     "output_type": "stream",
     "text": [
      "동바리 돌출부위 보호덮개 설치, 안전장갑 착용 철저, 자재 운반 방법 개선, 안전교육 강화, 현장 점검 강화.\n"
     ]
    },
    {
     "name": "stderr",
     "output_type": "stream",
     "text": [
      "진행률:  42%|████▏     | 405/964 [26:50<38:57,  4.18s/it]"
     ]
    },
    {
     "name": "stdout",
     "output_type": "stream",
     "text": [
      "바람 영향 최소화 조치, 거푸집 고정 및 결속 강화, 인양 작업 안전 점검, 작업 전 안전 교육 강화.\n"
     ]
    },
    {
     "name": "stderr",
     "output_type": "stream",
     "text": [
      "진행률:  42%|████▏     | 409/964 [27:06<37:02,  4.00s/it]"
     ]
    },
    {
     "name": "stdout",
     "output_type": "stream",
     "text": [
      "\n",
      "[샘플 410/964] 진행 중...\n"
     ]
    },
    {
     "name": "stderr",
     "output_type": "stream",
     "text": [
      "진행률:  43%|████▎     | 410/964 [27:10<37:16,  4.04s/it]"
     ]
    },
    {
     "name": "stdout",
     "output_type": "stream",
     "text": [
      "신호체계 재정립, 안전교육 강화, 현장 안전조치 강화, 사전교육 재실시, 관리감독자 상주 관리, 작업지휘자 교육 실시.\n"
     ]
    },
    {
     "name": "stderr",
     "output_type": "stream",
     "text": [
      "진행률:  43%|████▎     | 415/964 [27:27<30:42,  3.36s/it]"
     ]
    },
    {
     "name": "stdout",
     "output_type": "stream",
     "text": [
      "작업자 건강 검진 강화, 작업 환경 개선, 안전 교육 강화, 질병 예방 프로토콜 개선.\n"
     ]
    },
    {
     "name": "stderr",
     "output_type": "stream",
     "text": [
      "진행률:  43%|████▎     | 419/964 [27:38<26:17,  2.89s/it]"
     ]
    },
    {
     "name": "stdout",
     "output_type": "stream",
     "text": [
      "\n",
      "[샘플 420/964] 진행 중...\n"
     ]
    },
    {
     "name": "stderr",
     "output_type": "stream",
     "text": [
      "진행률:  44%|████▎     | 420/964 [27:40<24:47,  2.73s/it]"
     ]
    },
    {
     "name": "stdout",
     "output_type": "stream",
     "text": [
      "파이프서포트 고정 강화, 자재 적재 방법 개선, 작업 공간 정리정돈.\n"
     ]
    },
    {
     "name": "stderr",
     "output_type": "stream",
     "text": [
      "진행률:  44%|████▍     | 425/964 [27:54<23:46,  2.65s/it]"
     ]
    },
    {
     "name": "stdout",
     "output_type": "stream",
     "text": [
      "작업장 정리정돈, 자재 운반 방법 교육, 개인 보호구 착용, 안전 교육 실시, 재발 피해 방지 안내.\n"
     ]
    },
    {
     "name": "stderr",
     "output_type": "stream",
     "text": [
      "진행률:  45%|████▍     | 429/964 [28:05<23:25,  2.63s/it]"
     ]
    },
    {
     "name": "stdout",
     "output_type": "stream",
     "text": [
      "\n",
      "[샘플 430/964] 진행 중...\n"
     ]
    },
    {
     "name": "stderr",
     "output_type": "stream",
     "text": [
      "진행률:  45%|████▍     | 430/964 [28:08<24:29,  2.75s/it]"
     ]
    },
    {
     "name": "stdout",
     "output_type": "stream",
     "text": [
      "안전교육 강화, 작업 전 위험성 평가, 작업 자세 교육, 품핀 주변 정리정돈, 안전 장갑 착용, 작업 공간 확보.\n"
     ]
    },
    {
     "name": "stderr",
     "output_type": "stream",
     "text": [
      "진행률:  45%|████▌     | 435/964 [28:20<22:21,  2.54s/it]"
     ]
    },
    {
     "name": "stdout",
     "output_type": "stream",
     "text": [
      "안전대 착용 및 체결 확인, 작업발판 고정, 현장지도 및 서류 검토, 미흡사항 시정명령.\n"
     ]
    },
    {
     "name": "stderr",
     "output_type": "stream",
     "text": [
      "진행률:  46%|████▌     | 439/964 [28:29<20:36,  2.35s/it]"
     ]
    },
    {
     "name": "stdout",
     "output_type": "stream",
     "text": [
      "\n",
      "[샘플 440/964] 진행 중...\n"
     ]
    },
    {
     "name": "stderr",
     "output_type": "stream",
     "text": [
      "진행률:  46%|████▌     | 440/964 [28:32<21:25,  2.45s/it]"
     ]
    },
    {
     "name": "stdout",
     "output_type": "stream",
     "text": [
      "지하매설물 확인 강화, 작업 전 안전 교육 실시, 현장 안전 점검 강화, 관련 규정 준수 확인, 매설물 정보 공유 시스템 구축.\n"
     ]
    },
    {
     "name": "stderr",
     "output_type": "stream",
     "text": [
      "진행률:  46%|████▌     | 445/964 [28:46<24:19,  2.81s/it]"
     ]
    },
    {
     "name": "stdout",
     "output_type": "stream",
     "text": [
      "공구 휴대 및 보관 방법 개선, 칼날 잠금 장치 사용, 작업 전 안전 점검 실시, 안전 교육 강화, 휴대 시 칼날 보호 장치 사용.\n"
     ]
    },
    {
     "name": "stderr",
     "output_type": "stream",
     "text": [
      "진행률:  47%|████▋     | 449/964 [28:56<22:16,  2.59s/it]"
     ]
    },
    {
     "name": "stdout",
     "output_type": "stream",
     "text": [
      "\n",
      "[샘플 450/964] 진행 중...\n"
     ]
    },
    {
     "name": "stderr",
     "output_type": "stream",
     "text": [
      "진행률:  47%|████▋     | 450/964 [28:58<21:28,  2.51s/it]"
     ]
    },
    {
     "name": "stdout",
     "output_type": "stream",
     "text": [
      "안전교육 강화, 발판 사용 의무화, 작업 전 점검 실시, 안전 수칙 준수 관리감독, 현장 근로자 안전 교육.\n"
     ]
    },
    {
     "name": "stderr",
     "output_type": "stream",
     "text": [
      "진행률:  47%|████▋     | 455/964 [29:12<22:30,  2.65s/it]"
     ]
    },
    {
     "name": "stdout",
     "output_type": "stream",
     "text": [
      "지반 조사 강화, 작업 전 안전 점검, 근로자 안전 교육, 관리 감독자 상주, 작업 계획 수립 및 준수.\n"
     ]
    },
    {
     "name": "stderr",
     "output_type": "stream",
     "text": [
      "진행률:  48%|████▊     | 459/964 [29:27<29:32,  3.51s/it]"
     ]
    },
    {
     "name": "stdout",
     "output_type": "stream",
     "text": [
      "\n",
      "[샘플 460/964] 진행 중...\n"
     ]
    },
    {
     "name": "stderr",
     "output_type": "stream",
     "text": [
      "진행률:  48%|████▊     | 460/964 [29:32<33:32,  3.99s/it]"
     ]
    },
    {
     "name": "stdout",
     "output_type": "stream",
     "text": [
      "크레인 작업 안전 교육 강화, 작업 전 위험성 평가 실시, 신호수 배치 및 의사소통 철저, 크레인 반경 내 출입 통제, 관리감독자 상주 지휘, 안전 장비 점검 및 유지보수, 작업 계획 수립 및 준수.\n"
     ]
    },
    {
     "name": "stderr",
     "output_type": "stream",
     "text": [
      "진행률:  48%|████▊     | 465/964 [29:54<37:14,  4.48s/it]"
     ]
    },
    {
     "name": "stdout",
     "output_type": "stream",
     "text": [
      "작업간 안전수칙 이행 철저, 작업구간 관리감독자 관리감독 철저, TBM 및 정기교육을 통한 사고 교육 및 위험성 평가 예방 대책 이행 확인, 작업자 안전교육 실시, 현장 내 유사사고 발생 방지를 위한 현장교육 강화.\n"
     ]
    },
    {
     "name": "stderr",
     "output_type": "stream",
     "text": [
      "진행률:  49%|████▊     | 469/964 [30:10<34:09,  4.14s/it]"
     ]
    },
    {
     "name": "stdout",
     "output_type": "stream",
     "text": [
      "\n",
      "[샘플 470/964] 진행 중...\n"
     ]
    },
    {
     "name": "stderr",
     "output_type": "stream",
     "text": [
      "진행률:  49%|████▉     | 470/964 [30:15<34:50,  4.23s/it]"
     ]
    },
    {
     "name": "stdout",
     "output_type": "stream",
     "text": [
      "용접 안전 교육 강화, 작업 전 위험성 평가, 올바른 작업 방법 교육, 관리 감독자 현장 관리, 스파크 발생 원인 조사 및 재발 방지 대책 수립.\n"
     ]
    },
    {
     "name": "stderr",
     "output_type": "stream",
     "text": [
      "진행률:  49%|████▉     | 475/964 [30:35<33:36,  4.12s/it]"
     ]
    },
    {
     "name": "stdout",
     "output_type": "stream",
     "text": [
      "작업발판 재설치 및 고정상태 확인, 현장 자재 정리 철저 지시, 불완전 행동에 대한 안전교육 실시, 재해자 추적관리, 재발 방지 대책 수립, 관리자 및 근로자 교육 강화.\n"
     ]
    },
    {
     "name": "stderr",
     "output_type": "stream",
     "text": [
      "진행률:  50%|████▉     | 479/964 [30:51<32:04,  3.97s/it]"
     ]
    },
    {
     "name": "stdout",
     "output_type": "stream",
     "text": [
      "\n",
      "[샘플 480/964] 진행 중...\n"
     ]
    },
    {
     "name": "stderr",
     "output_type": "stream",
     "text": [
      "진행률:  50%|████▉     | 480/964 [30:56<34:28,  4.27s/it]"
     ]
    },
    {
     "name": "stdout",
     "output_type": "stream",
     "text": [
      "작업량 확인 및 현장 시공 현황 체크, 사소한 작업에 대한 주의 당부, 지속적인 관리, 지정된 통로로 다닐 수 있도록 교육, 근로자 건강 이상유무 확인, 개인보호구 착용상태 점검, 작업구간 정리정돈, 재해사고사례 및 안전대책 교육.\n"
     ]
    },
    {
     "name": "stderr",
     "output_type": "stream",
     "text": [
      "진행률:  50%|█████     | 485/964 [31:16<32:07,  4.02s/it]"
     ]
    },
    {
     "name": "stdout",
     "output_type": "stream",
     "text": [
      "정리정돈 철저, 이동 보행로 확보, 안전교육 강화, 작업 자세 교정, 불필요 자재 즉시 제거.\n"
     ]
    },
    {
     "name": "stderr",
     "output_type": "stream",
     "text": [
      "진행률:  51%|█████     | 489/964 [31:32<32:04,  4.05s/it]"
     ]
    },
    {
     "name": "stdout",
     "output_type": "stream",
     "text": [
      "\n",
      "[샘플 490/964] 진행 중...\n"
     ]
    },
    {
     "name": "stderr",
     "output_type": "stream",
     "text": [
      "진행률:  51%|█████     | 490/964 [31:36<31:29,  3.99s/it]"
     ]
    },
    {
     "name": "stdout",
     "output_type": "stream",
     "text": [
      "협착 방지 장갑 지급 및 착용, 회전 공구 작업 안전교육, 파지 형태 교육, 강화된 재발 방지 대책 수립, 전체 작업자 대상 사고 사례 전파 교육.\n"
     ]
    },
    {
     "name": "stderr",
     "output_type": "stream",
     "text": [
      "진행률:  51%|█████▏    | 495/964 [31:56<31:09,  3.99s/it]"
     ]
    },
    {
     "name": "stdout",
     "output_type": "stream",
     "text": [
      "작업 공간 정리 정돈, 비계 주변 통행로 확보, 안전 교육 강화, 현장 작업자 안전 의식 고취.\n"
     ]
    },
    {
     "name": "stderr",
     "output_type": "stream",
     "text": [
      "진행률:  52%|█████▏    | 499/964 [32:13<32:39,  4.21s/it]"
     ]
    },
    {
     "name": "stdout",
     "output_type": "stream",
     "text": [
      "\n",
      "[샘플 500/964] 진행 중...\n"
     ]
    },
    {
     "name": "stderr",
     "output_type": "stream",
     "text": [
      "진행률:  52%|█████▏    | 500/964 [32:17<32:18,  4.18s/it]"
     ]
    },
    {
     "name": "stdout",
     "output_type": "stream",
     "text": [
      "상호 전달체계 개선, 안전 교육 강화, 작업 전 안전 점검, 비계 해체 작업 시 안전 수칙 준수, 현장 관리 감독 강화.\n"
     ]
    },
    {
     "name": "stderr",
     "output_type": "stream",
     "text": [
      "진행률:  52%|█████▏    | 505/964 [32:36<30:29,  3.99s/it]"
     ]
    },
    {
     "name": "stdout",
     "output_type": "stream",
     "text": [
      "작업 방법 재교육, 안전 교육 강화, 관리감독 철저, 무리한 작업 금지, 자재 취급 요령 교육.\n"
     ]
    },
    {
     "name": "stderr",
     "output_type": "stream",
     "text": [
      "진행률:  53%|█████▎    | 509/964 [32:54<31:12,  4.11s/it]"
     ]
    },
    {
     "name": "stdout",
     "output_type": "stream",
     "text": [
      "\n",
      "[샘플 510/964] 진행 중...\n"
     ]
    },
    {
     "name": "stderr",
     "output_type": "stream",
     "text": [
      "진행률:  53%|█████▎    | 510/964 [32:58<32:01,  4.23s/it]"
     ]
    },
    {
     "name": "stdout",
     "output_type": "stream",
     "text": [
      "안전모 착용 철저, 비계 설치 및 해체 안전 점검 강화, 작업 전 안전 교육 실시, 개인 보호구 착용 확인.\n"
     ]
    },
    {
     "name": "stderr",
     "output_type": "stream",
     "text": [
      "진행률:  53%|█████▎    | 515/964 [33:17<29:34,  3.95s/it]"
     ]
    },
    {
     "name": "stdout",
     "output_type": "stream",
     "text": [
      "안전교육 강화, 작업 전 안전 점검, 안전 장갑 착용, 작업 절차 준수, 위험 요소 제거, 보호구 착용, 현장 관리 강화.\n"
     ]
    },
    {
     "name": "stderr",
     "output_type": "stream",
     "text": [
      "진행률:  54%|█████▍    | 519/964 [33:34<29:51,  4.02s/it]"
     ]
    },
    {
     "name": "stdout",
     "output_type": "stream",
     "text": [
      "\n",
      "[샘플 520/964] 진행 중...\n"
     ]
    },
    {
     "name": "stderr",
     "output_type": "stream",
     "text": [
      "진행률:  54%|█████▍    | 520/964 [33:39<32:53,  4.44s/it]"
     ]
    },
    {
     "name": "stdout",
     "output_type": "stream",
     "text": [
      "아웃트리거 설치 및 바퀴 고정 의무화, 이동식틀비계 작업 전 안전 점검 강화, A형 사다리 안전 사용 교육, 작업 전 위험성 평가 실시, 안전모 및 안전대 착용 의무화.\n"
     ]
    },
    {
     "name": "stderr",
     "output_type": "stream",
     "text": [
      "진행률:  54%|█████▍    | 525/964 [33:59<29:29,  4.03s/it]"
     ]
    },
    {
     "name": "stdout",
     "output_type": "stream",
     "text": [
      "스트레칭 교육 및 실시, 작업 전후 스트레칭 의무화, 근육 이완제 비치, 작업 강도 조절, 충분한 휴식 시간 보장.\n"
     ]
    },
    {
     "name": "stderr",
     "output_type": "stream",
     "text": [
      "진행률:  55%|█████▍    | 529/964 [34:14<27:03,  3.73s/it]"
     ]
    },
    {
     "name": "stdout",
     "output_type": "stream",
     "text": [
      "\n",
      "[샘플 530/964] 진행 중...\n"
     ]
    },
    {
     "name": "stderr",
     "output_type": "stream",
     "text": [
      "진행률:  55%|█████▍    | 530/964 [34:18<28:42,  3.97s/it]"
     ]
    },
    {
     "name": "stdout",
     "output_type": "stream",
     "text": [
      "정리정돈 철저, 안전교육 강화, 작업 전 점검, 위험물 관리 강화, 사고 사례 공유.\n"
     ]
    },
    {
     "name": "stderr",
     "output_type": "stream",
     "text": [
      "진행률:  55%|█████▌    | 535/964 [34:39<28:56,  4.05s/it]"
     ]
    },
    {
     "name": "stdout",
     "output_type": "stream",
     "text": [
      "조립 상태 확인, 안전핀 관리 강화, 정기 점검 실시, 작업 전 안전 교육, 보호구 착용 철저.\n"
     ]
    },
    {
     "name": "stderr",
     "output_type": "stream",
     "text": [
      "진행률:  56%|█████▌    | 539/964 [34:55<28:37,  4.04s/it]"
     ]
    },
    {
     "name": "stdout",
     "output_type": "stream",
     "text": [
      "\n",
      "[샘플 540/964] 진행 중...\n"
     ]
    },
    {
     "name": "stderr",
     "output_type": "stream",
     "text": [
      "진행률:  56%|█████▌    | 540/964 [34:59<28:15,  4.00s/it]"
     ]
    },
    {
     "name": "stdout",
     "output_type": "stream",
     "text": [
      "크레인 작업반경 출입통제 강화, 신호수 안전 교육, 현장 안전 점검 강화, 작업 전 안전 브리핑, 안전 시설물 점검 및 보수.\n"
     ]
    },
    {
     "name": "stderr",
     "output_type": "stream",
     "text": [
      "진행률:  57%|█████▋    | 545/964 [35:19<27:31,  3.94s/it]"
     ]
    },
    {
     "name": "stdout",
     "output_type": "stream",
     "text": [
      "작업 공간 정리정돈, 철근 적재 방식 개선, 이동 경로 확보, 안전 교육 강화, 보호구 착용 확인, 작업 전 점검 실시.\n"
     ]
    },
    {
     "name": "stderr",
     "output_type": "stream",
     "text": [
      "진행률:  57%|█████▋    | 549/964 [35:35<26:50,  3.88s/it]"
     ]
    },
    {
     "name": "stdout",
     "output_type": "stream",
     "text": [
      "\n",
      "[샘플 550/964] 진행 중...\n"
     ]
    },
    {
     "name": "stderr",
     "output_type": "stream",
     "text": [
      "진행률:  57%|█████▋    | 550/964 [35:39<26:01,  3.77s/it]"
     ]
    },
    {
     "name": "stdout",
     "output_type": "stream",
     "text": [
      "보호커버 설치, 기계 안전 점검, 작업자 안전 교육, 위험성 평가 실시.\n"
     ]
    },
    {
     "name": "stderr",
     "output_type": "stream",
     "text": [
      "진행률:  58%|█████▊    | 555/964 [35:59<27:14,  4.00s/it]"
     ]
    },
    {
     "name": "stdout",
     "output_type": "stream",
     "text": [
      "작업 전 건강상태 체크, 응급처치 교육, 작업 환경 모니터링, 휴식 시간 보장.\n"
     ]
    },
    {
     "name": "stderr",
     "output_type": "stream",
     "text": [
      "진행률:  58%|█████▊    | 559/964 [36:15<27:38,  4.10s/it]"
     ]
    },
    {
     "name": "stdout",
     "output_type": "stream",
     "text": [
      "\n",
      "[샘플 560/964] 진행 중...\n"
     ]
    },
    {
     "name": "stderr",
     "output_type": "stream",
     "text": [
      "진행률:  58%|█████▊    | 560/964 [36:20<27:58,  4.15s/it]"
     ]
    },
    {
     "name": "stdout",
     "output_type": "stream",
     "text": [
      "미끄럼 방지 대책 강화, 작업 전 안전 점검 실시, 안전 교육 강화, 개인 보호구 착용 철저, 작업 환경 개선.\n"
     ]
    },
    {
     "name": "stderr",
     "output_type": "stream",
     "text": [
      "진행률:  59%|█████▊    | 565/964 [36:39<27:08,  4.08s/it]"
     ]
    },
    {
     "name": "stdout",
     "output_type": "stream",
     "text": [
      "설계도면 재검토 및 시공 상태 확인, 흙막이 가시설 안전 점검 강화, 시공 관리 감독 강화, 추가 사고 예방 교육 실시.\n"
     ]
    },
    {
     "name": "stderr",
     "output_type": "stream",
     "text": [
      "진행률:  59%|█████▉    | 569/964 [36:55<26:35,  4.04s/it]"
     ]
    },
    {
     "name": "stdout",
     "output_type": "stream",
     "text": [
      "\n",
      "[샘플 570/964] 진행 중...\n"
     ]
    },
    {
     "name": "stderr",
     "output_type": "stream",
     "text": [
      "진행률:  59%|█████▉    | 570/964 [36:59<26:31,  4.04s/it]"
     ]
    },
    {
     "name": "stdout",
     "output_type": "stream",
     "text": [
      "작업구간 통로 확보, 이동 경로 점검, 안전화 착용 강조, 작업 전 안전 교육 강화.\n"
     ]
    },
    {
     "name": "stderr",
     "output_type": "stream",
     "text": [
      "진행률:  60%|█████▉    | 575/964 [37:18<24:27,  3.77s/it]"
     ]
    },
    {
     "name": "stdout",
     "output_type": "stream",
     "text": [
      "달비계 점검 강화, 안전대 작동 확인, 브레이크 작동 점검, 안전 교육 강화, 작업 전 안전 점검, 관리 감독 강화.\n"
     ]
    },
    {
     "name": "stderr",
     "output_type": "stream",
     "text": [
      "진행률:  60%|██████    | 579/964 [37:35<27:09,  4.23s/it]"
     ]
    },
    {
     "name": "stdout",
     "output_type": "stream",
     "text": [
      "\n",
      "[샘플 580/964] 진행 중...\n"
     ]
    },
    {
     "name": "stderr",
     "output_type": "stream",
     "text": [
      "진행률:  60%|██████    | 580/964 [37:39<25:33,  3.99s/it]"
     ]
    },
    {
     "name": "stdout",
     "output_type": "stream",
     "text": [
      "안전교육 강화, 작업장 환경 개선, 위험요소 제거, 현장 안전 점검 강화, 안전 관리자 책임 강화.\n"
     ]
    },
    {
     "name": "stderr",
     "output_type": "stream",
     "text": [
      "진행률:  61%|██████    | 585/964 [38:00<25:43,  4.07s/it]"
     ]
    },
    {
     "name": "stdout",
     "output_type": "stream",
     "text": [
      "작업 공간 정리정돈, 유로폼 설치 상태 점검, 안전화 착용 확인, 작업 전 안전 교육 강화.\n"
     ]
    },
    {
     "name": "stderr",
     "output_type": "stream",
     "text": [
      "진행률:  61%|██████    | 589/964 [38:17<26:32,  4.25s/it]"
     ]
    },
    {
     "name": "stdout",
     "output_type": "stream",
     "text": [
      "\n",
      "[샘플 590/964] 진행 중...\n"
     ]
    },
    {
     "name": "stderr",
     "output_type": "stream",
     "text": [
      "진행률:  61%|██████    | 590/964 [38:20<24:33,  3.94s/it]"
     ]
    },
    {
     "name": "stdout",
     "output_type": "stream",
     "text": [
      "안전 장비 지급 및 착용 확인, 운반 방법 개선, 작업 전 안전 점검 강화, 안전 교육 실시.\n"
     ]
    },
    {
     "name": "stderr",
     "output_type": "stream",
     "text": [
      "진행률:  62%|██████▏   | 595/964 [38:41<25:25,  4.13s/it]"
     ]
    },
    {
     "name": "stdout",
     "output_type": "stream",
     "text": [
      "작업 전후 정리정돈 철저, 작업 공간 위험 요인 제거, 안전화 착용 확인, 바닥 정리정돈, 작업 전 안전 점검 강화.\n"
     ]
    },
    {
     "name": "stderr",
     "output_type": "stream",
     "text": [
      "진행률:  62%|██████▏   | 599/964 [38:58<26:43,  4.39s/it]"
     ]
    },
    {
     "name": "stdout",
     "output_type": "stream",
     "text": [
      "\n",
      "[샘플 600/964] 진행 중...\n"
     ]
    },
    {
     "name": "stderr",
     "output_type": "stream",
     "text": [
      "진행률:  62%|██████▏   | 600/964 [39:02<26:16,  4.33s/it]"
     ]
    },
    {
     "name": "stdout",
     "output_type": "stream",
     "text": [
      "안전고리 이중체결, 미끄럼 방지 대책 강화, 작업 전 안전 점검 철저, 근로자 안전 교육 강화.\n"
     ]
    },
    {
     "name": "stderr",
     "output_type": "stream",
     "text": [
      "진행률:  63%|██████▎   | 605/964 [39:21<22:24,  3.74s/it]"
     ]
    },
    {
     "name": "stdout",
     "output_type": "stream",
     "text": [
      "되메우기 철저, 작업 전 안전 점검, 안전 교육 강화, 작업 환경 개선, 미끄럼 방지 조치, 안전모 착용 확인.\n"
     ]
    },
    {
     "name": "stderr",
     "output_type": "stream",
     "text": [
      "진행률:  63%|██████▎   | 609/964 [39:38<24:46,  4.19s/it]"
     ]
    },
    {
     "name": "stdout",
     "output_type": "stream",
     "text": [
      "\n",
      "[샘플 610/964] 진행 중...\n"
     ]
    },
    {
     "name": "stderr",
     "output_type": "stream",
     "text": [
      "진행률:  63%|██████▎   | 610/964 [39:42<25:16,  4.28s/it]"
     ]
    },
    {
     "name": "stdout",
     "output_type": "stream",
     "text": [
      "작업 자세 안전 교육, 공구 사용 안전 교육, 작업 전 위험성 평가, 현장 관리 철저, 안전 작업 환경 조성.\n"
     ]
    },
    {
     "name": "stderr",
     "output_type": "stream",
     "text": [
      "진행률:  64%|██████▍   | 615/964 [40:02<23:24,  4.03s/it]"
     ]
    },
    {
     "name": "stdout",
     "output_type": "stream",
     "text": [
      "주변확인 철저, 이동 통로 확보, 바닥 지장물 제거, 안전교육 강화, 작업 전 안전 점검, 위험성 평가 실시.\n"
     ]
    },
    {
     "name": "stderr",
     "output_type": "stream",
     "text": [
      "진행률:  64%|██████▍   | 619/964 [40:18<23:29,  4.09s/it]"
     ]
    },
    {
     "name": "stdout",
     "output_type": "stream",
     "text": [
      "\n",
      "[샘플 620/964] 진행 중...\n"
     ]
    },
    {
     "name": "stderr",
     "output_type": "stream",
     "text": [
      "진행률:  64%|██████▍   | 620/964 [40:22<22:17,  3.89s/it]"
     ]
    },
    {
     "name": "stdout",
     "output_type": "stream",
     "text": [
      "작업 전 안전 점검 강화, 이동 경로 확보 및 정리정돈, 안전 장갑 착용, 작업자 안전 교육.\n"
     ]
    },
    {
     "name": "stderr",
     "output_type": "stream",
     "text": [
      "진행률:  65%|██████▍   | 625/964 [40:42<23:13,  4.11s/it]"
     ]
    },
    {
     "name": "stdout",
     "output_type": "stream",
     "text": [
      "작업 전 안전 점검 강화, 알폼 연결핀 충분히 확보, 정리정돈 철저, 불안전 행위 금지 교육, TBM 시 사고 사례 공유.\n"
     ]
    },
    {
     "name": "stderr",
     "output_type": "stream",
     "text": [
      "진행률:  65%|██████▌   | 629/964 [40:59<23:09,  4.15s/it]"
     ]
    },
    {
     "name": "stdout",
     "output_type": "stream",
     "text": [
      "\n",
      "[샘플 630/964] 진행 중...\n"
     ]
    },
    {
     "name": "stderr",
     "output_type": "stream",
     "text": [
      "진행률:  65%|██████▌   | 630/964 [41:03<22:34,  4.05s/it]"
     ]
    },
    {
     "name": "stdout",
     "output_type": "stream",
     "text": [
      "안전교육 강화, 작업 전 안전 점검, 전원 차단 습관화, 안전 장비 착용, 작업 절차 준수.\n"
     ]
    },
    {
     "name": "stderr",
     "output_type": "stream",
     "text": [
      "진행률:  66%|██████▌   | 635/964 [41:24<23:23,  4.27s/it]"
     ]
    },
    {
     "name": "stdout",
     "output_type": "stream",
     "text": [
      "안전교육 강화, 작업 전 위험성 평가, 암사면 상태 확인, 작업 발판 점검, 안전모 착용, 관리감독자 순찰, 재발 방지 교육.\n"
     ]
    },
    {
     "name": "stderr",
     "output_type": "stream",
     "text": [
      "진행률:  66%|██████▋   | 639/964 [41:41<22:22,  4.13s/it]"
     ]
    },
    {
     "name": "stdout",
     "output_type": "stream",
     "text": [
      "\n",
      "[샘플 640/964] 진행 중...\n"
     ]
    },
    {
     "name": "stderr",
     "output_type": "stream",
     "text": [
      "진행률:  66%|██████▋   | 640/964 [41:46<23:31,  4.36s/it]"
     ]
    },
    {
     "name": "stdout",
     "output_type": "stream",
     "text": [
      "작업 전 위험요소 제거, 작업 전 안전 점검 강화, 안전 장갑 착용, 작업자 안전 교육 강화, 콘크리트 면 정비 및 위험물 제거.\n"
     ]
    },
    {
     "name": "stderr",
     "output_type": "stream",
     "text": [
      "진행률:  67%|██████▋   | 645/964 [42:05<21:17,  4.00s/it]"
     ]
    },
    {
     "name": "stdout",
     "output_type": "stream",
     "text": [
      "작업 전 안전 교육 강화, 이동 통로 확보 및 관리, 작업 구역 분리 및 표시, 안전 점검 강화, 부주의 방지 교육, 작업자 안전 의식 고취.\n"
     ]
    },
    {
     "name": "stderr",
     "output_type": "stream",
     "text": [
      "진행률:  67%|██████▋   | 649/964 [42:24<22:17,  4.25s/it]"
     ]
    },
    {
     "name": "stdout",
     "output_type": "stream",
     "text": [
      "\n",
      "[샘플 650/964] 진행 중...\n"
     ]
    },
    {
     "name": "stderr",
     "output_type": "stream",
     "text": [
      "진행률:  67%|██████▋   | 650/964 [42:26<19:59,  3.82s/it]"
     ]
    },
    {
     "name": "stdout",
     "output_type": "stream",
     "text": [
      "이동식틀비계 안전 점검 강화, 조적작업 안전교육 실시, 불안전 행동 개선, 안전모 착용 확인, 작업 전 안전 점검 실시.\n"
     ]
    },
    {
     "name": "stderr",
     "output_type": "stream",
     "text": [
      "진행률:  68%|██████▊   | 655/964 [42:41<15:48,  3.07s/it]"
     ]
    },
    {
     "name": "stdout",
     "output_type": "stream",
     "text": [
      "안전벨트 착용 및 고리 체결 확인 강화, 개인 보호구 착용 점검 강화, 안전 교육 재실시, 작업 전 안전 점검 강화.\n"
     ]
    },
    {
     "name": "stderr",
     "output_type": "stream",
     "text": [
      "진행률:  68%|██████▊   | 659/964 [42:52<14:29,  2.85s/it]"
     ]
    },
    {
     "name": "stdout",
     "output_type": "stream",
     "text": [
      "\n",
      "[샘플 660/964] 진행 중...\n"
     ]
    },
    {
     "name": "stderr",
     "output_type": "stream",
     "text": [
      "진행률:  68%|██████▊   | 660/964 [42:54<14:02,  2.77s/it]"
     ]
    },
    {
     "name": "stdout",
     "output_type": "stream",
     "text": [
      "안전교육 강화, 작업 전 안전 점검, 비산 방지 대책, 안전 장비 착용, 작업 구역 분리, 관리 감독 강화.\n"
     ]
    },
    {
     "name": "stderr",
     "output_type": "stream",
     "text": [
      "진행률:  69%|██████▉   | 665/964 [43:09<14:13,  2.85s/it]"
     ]
    },
    {
     "name": "stdout",
     "output_type": "stream",
     "text": [
      "작업환경 수시 정리, 안전교육 실시, 작업발판 점검 강화, 몸균형 유지 교육, 현장 점검 및 재발 방지 교육.\n"
     ]
    },
    {
     "name": "stderr",
     "output_type": "stream",
     "text": [
      "진행률:  69%|██████▉   | 669/964 [43:19<12:43,  2.59s/it]"
     ]
    },
    {
     "name": "stdout",
     "output_type": "stream",
     "text": [
      "\n",
      "[샘플 670/964] 진행 중...\n"
     ]
    },
    {
     "name": "stderr",
     "output_type": "stream",
     "text": [
      "진행률:  70%|██████▉   | 670/964 [43:21<12:31,  2.56s/it]"
     ]
    },
    {
     "name": "stdout",
     "output_type": "stream",
     "text": [
      "통행로 확보 및 정리정돈, 자재 야적 금지, 안전 점검 강화, 작업 전후 안전 교육 실시.\n"
     ]
    },
    {
     "name": "stderr",
     "output_type": "stream",
     "text": [
      "진행률:  70%|███████   | 675/964 [43:35<13:42,  2.85s/it]"
     ]
    },
    {
     "name": "stdout",
     "output_type": "stream",
     "text": [
      "안전발판 점검 강화, 안전난간 설치 확인, 작업 전 안전교육 실시, 고소작업 안전대 착용, 작업 계획 수립 및 공유, 위험성 평가 실시.\n"
     ]
    },
    {
     "name": "stderr",
     "output_type": "stream",
     "text": [
      "진행률:  70%|███████   | 679/964 [43:47<14:19,  3.01s/it]"
     ]
    },
    {
     "name": "stdout",
     "output_type": "stream",
     "text": [
      "\n",
      "[샘플 680/964] 진행 중...\n"
     ]
    },
    {
     "name": "stderr",
     "output_type": "stream",
     "text": [
      "진행률:  71%|███████   | 680/964 [43:50<14:41,  3.11s/it]"
     ]
    },
    {
     "name": "stdout",
     "output_type": "stream",
     "text": [
      "정해진 작업통로 이용 의무화, 안전교육 강화, 현장 점검 강화, 통행로 안내 표지판 설치, 위험성 평가 및 관리감독 강화.\n"
     ]
    },
    {
     "name": "stderr",
     "output_type": "stream",
     "text": [
      "진행률:  71%|███████   | 685/964 [44:05<14:10,  3.05s/it]"
     ]
    },
    {
     "name": "stdout",
     "output_type": "stream",
     "text": [
      "통제구역 출입 통제 강화, 작업 전 안전 교육 실시, 위험성 평가 및 개선, 현장 관리감독 강화, 안전 작업 절차 준수.\n"
     ]
    },
    {
     "name": "stderr",
     "output_type": "stream",
     "text": [
      "진행률:  71%|███████▏  | 689/964 [44:17<13:30,  2.95s/it]"
     ]
    },
    {
     "name": "stdout",
     "output_type": "stream",
     "text": [
      "\n",
      "[샘플 690/964] 진행 중...\n"
     ]
    },
    {
     "name": "stderr",
     "output_type": "stream",
     "text": [
      "진행률:  72%|███████▏  | 690/964 [44:20<13:30,  2.96s/it]"
     ]
    },
    {
     "name": "stdout",
     "output_type": "stream",
     "text": [
      "안전교육 강화, 작업 계획 수립, 장비 점검 강화, 작업 반경 확보, 신호수 배치, 안전 장비 착용, 비상 대응 훈련.\n"
     ]
    },
    {
     "name": "stderr",
     "output_type": "stream",
     "text": [
      "진행률:  72%|███████▏  | 695/964 [44:34<12:04,  2.69s/it]"
     ]
    },
    {
     "name": "stdout",
     "output_type": "stream",
     "text": [
      "작업 공간 정리정돈, 이동 경로 확보, 안전화 착용, 작업 전 안전 점검, 재해자료 공유 및 교육.\n"
     ]
    },
    {
     "name": "stderr",
     "output_type": "stream",
     "text": [
      "진행률:  73%|███████▎  | 699/964 [44:46<13:29,  3.05s/it]"
     ]
    },
    {
     "name": "stdout",
     "output_type": "stream",
     "text": [
      "\n",
      "[샘플 700/964] 진행 중...\n"
     ]
    },
    {
     "name": "stderr",
     "output_type": "stream",
     "text": [
      "진행률:  73%|███████▎  | 700/964 [44:49<13:19,  3.03s/it]"
     ]
    },
    {
     "name": "stdout",
     "output_type": "stream",
     "text": [
      "적재함 작동 전 점검 강화, 안전핀 설치 의무화, 작업 전 안전 교육 강화, 관리 감독 강화.\n"
     ]
    },
    {
     "name": "stderr",
     "output_type": "stream",
     "text": [
      "진행률:  73%|███████▎  | 705/964 [45:03<12:13,  2.83s/it]"
     ]
    },
    {
     "name": "stdout",
     "output_type": "stream",
     "text": [
      "위험성 평가 반영, 안전 교육 실시, 작업 방법 개선, 이동식 비계 점검 강화, 미끄럼 방지 대책, 안전모 착용 확인, 작업 전 안전 점검.\n"
     ]
    },
    {
     "name": "stderr",
     "output_type": "stream",
     "text": [
      "진행률:  74%|███████▎  | 709/964 [45:15<12:29,  2.94s/it]"
     ]
    },
    {
     "name": "stdout",
     "output_type": "stream",
     "text": [
      "\n",
      "[샘플 710/964] 진행 중...\n"
     ]
    },
    {
     "name": "stderr",
     "output_type": "stream",
     "text": [
      "진행률:  74%|███████▎  | 710/964 [45:17<12:02,  2.85s/it]"
     ]
    },
    {
     "name": "stdout",
     "output_type": "stream",
     "text": [
      "건강검진 실시, 작업 전 건강 상태 확인, 2인 1조 작업, 비상 연락망 구축, 응급처치 교육 실시, 작업 환경 모니터링 강화.\n"
     ]
    },
    {
     "name": "stderr",
     "output_type": "stream",
     "text": [
      "진행률:  74%|███████▍  | 715/964 [45:31<11:29,  2.77s/it]"
     ]
    },
    {
     "name": "stdout",
     "output_type": "stream",
     "text": [
      "안전교육 강화, 작업 방법 개선, 보조 장비 활용 교육, 위험성 평가 실시, 현장 점검 강화, 안전 수칙 준수 강조.\n"
     ]
    },
    {
     "name": "stderr",
     "output_type": "stream",
     "text": [
      "진행률:  75%|███████▍  | 719/964 [45:41<10:36,  2.60s/it]"
     ]
    },
    {
     "name": "stdout",
     "output_type": "stream",
     "text": [
      "\n",
      "[샘플 720/964] 진행 중...\n"
     ]
    },
    {
     "name": "stderr",
     "output_type": "stream",
     "text": [
      "진행률:  75%|███████▍  | 720/964 [45:44<10:44,  2.64s/it]"
     ]
    },
    {
     "name": "stdout",
     "output_type": "stream",
     "text": [
      "벌 쏘임 예방 조치, 안전 교육 강화, 방호 장비 지급, 응급 처치 훈련, 작업 전 확인 철저.\n"
     ]
    },
    {
     "name": "stderr",
     "output_type": "stream",
     "text": [
      "진행률:  75%|███████▌  | 725/964 [45:57<10:55,  2.74s/it]"
     ]
    },
    {
     "name": "stdout",
     "output_type": "stream",
     "text": [
      "미끄럼 방지 대책 강화, 작업 발판 안전 점검, 안전 교육 강화, 작업 환경 개선, 개인 보호구 착용 확인.\n"
     ]
    },
    {
     "name": "stderr",
     "output_type": "stream",
     "text": [
      "진행률:  76%|███████▌  | 729/964 [46:10<11:51,  3.03s/it]"
     ]
    },
    {
     "name": "stdout",
     "output_type": "stream",
     "text": [
      "\n",
      "[샘플 730/964] 진행 중...\n"
     ]
    },
    {
     "name": "stderr",
     "output_type": "stream",
     "text": [
      "진행률:  76%|███████▌  | 730/964 [46:13<11:26,  2.94s/it]"
     ]
    },
    {
     "name": "stdout",
     "output_type": "stream",
     "text": [
      "운반 방법 개선, 안전교육 강화, 작업 전 점검 실시, 현장 관리 철저.\n"
     ]
    },
    {
     "name": "stderr",
     "output_type": "stream",
     "text": [
      "진행률:  76%|███████▌  | 735/964 [46:25<09:41,  2.54s/it]"
     ]
    },
    {
     "name": "stdout",
     "output_type": "stream",
     "text": [
      "기상 예보 확인 강화, 작업 중단 기준 명확화, 안전 교육 및 점검 실시, 비상 대응 계획 수립.\n"
     ]
    },
    {
     "name": "stderr",
     "output_type": "stream",
     "text": [
      "진행률:  77%|███████▋  | 739/964 [46:36<09:42,  2.59s/it]"
     ]
    },
    {
     "name": "stdout",
     "output_type": "stream",
     "text": [
      "\n",
      "[샘플 740/964] 진행 중...\n"
     ]
    },
    {
     "name": "stderr",
     "output_type": "stream",
     "text": [
      "진행률:  77%|███████▋  | 740/964 [46:39<10:03,  2.69s/it]"
     ]
    },
    {
     "name": "stdout",
     "output_type": "stream",
     "text": [
      "고소작업대 안전 점검 강화, 작업 전 안전 교육 재실시, 추락 방지 안전 장비 보급, 현장 안전 관리자 책임 강화.\n"
     ]
    },
    {
     "name": "stderr",
     "output_type": "stream",
     "text": [
      "진행률:  77%|███████▋  | 745/964 [46:53<10:31,  2.88s/it]"
     ]
    },
    {
     "name": "stdout",
     "output_type": "stream",
     "text": [
      "미끄럼 방지 작업 바닥 설치, 구리스 제거 후 작업 지시, 2인 1조 작업, 안전교육 강화, 작업 전 안전 점검, 개인 보호구 착용 확인.\n"
     ]
    },
    {
     "name": "stderr",
     "output_type": "stream",
     "text": [
      "진행률:  78%|███████▊  | 749/964 [47:04<10:11,  2.84s/it]"
     ]
    },
    {
     "name": "stdout",
     "output_type": "stream",
     "text": [
      "\n",
      "[샘플 750/964] 진행 중...\n"
     ]
    },
    {
     "name": "stderr",
     "output_type": "stream",
     "text": [
      "진행률:  78%|███████▊  | 750/964 [47:06<09:08,  2.56s/it]"
     ]
    },
    {
     "name": "stdout",
     "output_type": "stream",
     "text": [
      "주변 시설물 확인 강화, 작업 전 안전 점검 실시, 운반 경로 확보.\n"
     ]
    },
    {
     "name": "stderr",
     "output_type": "stream",
     "text": [
      "진행률:  78%|███████▊  | 755/964 [47:22<10:41,  3.07s/it]"
     ]
    },
    {
     "name": "stdout",
     "output_type": "stream",
     "text": [
      "타워크레인 정밀점검 강화, 리미트 스위치 점검 및 교체, 안전관리 시스템 개선, 정비 이력 관리 강화, 전문 정비 인력 확보.\n"
     ]
    },
    {
     "name": "stderr",
     "output_type": "stream",
     "text": [
      "진행률:  79%|███████▊  | 759/964 [47:34<09:52,  2.89s/it]"
     ]
    },
    {
     "name": "stdout",
     "output_type": "stream",
     "text": [
      "\n",
      "[샘플 760/964] 진행 중...\n"
     ]
    },
    {
     "name": "stderr",
     "output_type": "stream",
     "text": [
      "진행률:  79%|███████▉  | 760/964 [47:36<09:28,  2.79s/it]"
     ]
    },
    {
     "name": "stdout",
     "output_type": "stream",
     "text": [
      "안전장치 점검 강화, 작업 전 위험성 평가 실시, 생명줄 관리 철저, 작업자 안전교육 강화, 현장 작업 통제 강화.\n"
     ]
    },
    {
     "name": "stderr",
     "output_type": "stream",
     "text": [
      "진행률:  79%|███████▉  | 765/964 [47:50<08:57,  2.70s/it]"
     ]
    },
    {
     "name": "stdout",
     "output_type": "stream",
     "text": [
      "작업선 정비 및 관리 강화, 운반 작업 안전 교육, 현장 정리정돈 강화.\n"
     ]
    },
    {
     "name": "stderr",
     "output_type": "stream",
     "text": [
      "진행률:  80%|███████▉  | 769/964 [48:02<09:18,  2.86s/it]"
     ]
    },
    {
     "name": "stdout",
     "output_type": "stream",
     "text": [
      "\n",
      "[샘플 770/964] 진행 중...\n"
     ]
    },
    {
     "name": "stderr",
     "output_type": "stream",
     "text": [
      "진행률:  80%|███████▉  | 770/964 [48:05<09:49,  3.04s/it]"
     ]
    },
    {
     "name": "stdout",
     "output_type": "stream",
     "text": [
      "안전교육 강화, 작업 전후 점검 철저, 2인 1조 작업 원칙, 휴먼 에러 방지 교육, 작업 반경 확인, 신호수 배치.\n"
     ]
    },
    {
     "name": "stderr",
     "output_type": "stream",
     "text": [
      "진행률:  80%|████████  | 775/964 [48:20<09:14,  2.93s/it]"
     ]
    },
    {
     "name": "stdout",
     "output_type": "stream",
     "text": [
      "작업자 안전교육 강화, 현장 정리정돈, 통행로 안전조치, 재발방지 교육.\n"
     ]
    },
    {
     "name": "stderr",
     "output_type": "stream",
     "text": [
      "진행률:  81%|████████  | 779/964 [48:30<08:32,  2.77s/it]"
     ]
    },
    {
     "name": "stdout",
     "output_type": "stream",
     "text": [
      "\n",
      "[샘플 780/964] 진행 중...\n"
     ]
    },
    {
     "name": "stderr",
     "output_type": "stream",
     "text": [
      "진행률:  81%|████████  | 780/964 [48:32<07:57,  2.59s/it]"
     ]
    },
    {
     "name": "stdout",
     "output_type": "stream",
     "text": [
      "안전보호구 착용 의무화, 안전교육 강화, 현장 점검 강화, 작업 전 안전 점검 실시.\n"
     ]
    },
    {
     "name": "stderr",
     "output_type": "stream",
     "text": [
      "진행률:  81%|████████▏ | 785/964 [48:47<08:32,  2.86s/it]"
     ]
    },
    {
     "name": "stdout",
     "output_type": "stream",
     "text": [
      "장비 노후성 평가, 부식 방지 대책, 정기 안전 점검 강화, 특별 안전 교육, 예비 부품 확보, 작업 환경 개선.\n"
     ]
    },
    {
     "name": "stderr",
     "output_type": "stream",
     "text": [
      "진행률:  82%|████████▏ | 789/964 [48:57<07:27,  2.56s/it]"
     ]
    },
    {
     "name": "stdout",
     "output_type": "stream",
     "text": [
      "\n",
      "[샘플 790/964] 진행 중...\n"
     ]
    },
    {
     "name": "stderr",
     "output_type": "stream",
     "text": [
      "진행률:  82%|████████▏ | 790/964 [49:00<07:45,  2.68s/it]"
     ]
    },
    {
     "name": "stdout",
     "output_type": "stream",
     "text": [
      "작업발판 단부 식별조치 강화, 작업발판 설치구간 정리정돈, 안전모 및 안전화 착용, too box meeting 시행, 작업발판 특별안전교육, 안전교육 실시.\n"
     ]
    },
    {
     "name": "stderr",
     "output_type": "stream",
     "text": [
      "진행률:  82%|████████▏ | 795/964 [49:14<07:45,  2.75s/it]"
     ]
    },
    {
     "name": "stdout",
     "output_type": "stream",
     "text": [
      "전문 업체 정비 의뢰, 건설기계 점검 강화, 안전 교육 실시, 작업 전 자가 점검, 정비 이력 관리.\n"
     ]
    },
    {
     "name": "stderr",
     "output_type": "stream",
     "text": [
      "진행률:  83%|████████▎ | 799/964 [49:26<08:04,  2.94s/it]"
     ]
    },
    {
     "name": "stdout",
     "output_type": "stream",
     "text": [
      "\n",
      "[샘플 800/964] 진행 중...\n"
     ]
    },
    {
     "name": "stderr",
     "output_type": "stream",
     "text": [
      "진행률:  83%|████████▎ | 800/964 [49:28<07:27,  2.73s/it]"
     ]
    },
    {
     "name": "stdout",
     "output_type": "stream",
     "text": [
      "안전교육 강화, TBM 실시, 위험성 평가 보완, 비계 안전 점검, 근로자 안전 의식 고취.\n"
     ]
    },
    {
     "name": "stderr",
     "output_type": "stream",
     "text": [
      "진행률:  84%|████████▎ | 805/964 [49:43<07:52,  2.97s/it]"
     ]
    },
    {
     "name": "stdout",
     "output_type": "stream",
     "text": [
      "작업 공간 정리 정돈, 와이어 체결 작업 전 안전 점검, 작업자 안전 교육 강화, 미끄럼 방지 작업화 착용, 추락 방지망 설치.\n"
     ]
    },
    {
     "name": "stderr",
     "output_type": "stream",
     "text": [
      "진행률:  84%|████████▍ | 809/964 [49:53<06:46,  2.62s/it]"
     ]
    },
    {
     "name": "stdout",
     "output_type": "stream",
     "text": [
      "\n",
      "[샘플 810/964] 진행 중...\n"
     ]
    },
    {
     "name": "stderr",
     "output_type": "stream",
     "text": [
      "진행률:  84%|████████▍ | 810/964 [49:55<06:29,  2.53s/it]"
     ]
    },
    {
     "name": "stdout",
     "output_type": "stream",
     "text": [
      "자재 정리정돈 강화, 작업 전 위험요소 점검, 안전교육 강화, 현장 안전조치 확인, 관리감독자 즉각 개선조치.\n"
     ]
    },
    {
     "name": "stderr",
     "output_type": "stream",
     "text": [
      "진행률:  85%|████████▍ | 815/964 [50:09<06:38,  2.67s/it]"
     ]
    },
    {
     "name": "stdout",
     "output_type": "stream",
     "text": [
      "TBM 시 위험요인 사전제거, 개인보호구 착용 철저, 작업 전 안전점검, 관리감독 강화, 주변 정리 철저.\n"
     ]
    },
    {
     "name": "stderr",
     "output_type": "stream",
     "text": [
      "진행률:  85%|████████▍ | 819/964 [50:20<06:19,  2.61s/it]"
     ]
    },
    {
     "name": "stdout",
     "output_type": "stream",
     "text": [
      "\n",
      "[샘플 820/964] 진행 중...\n"
     ]
    },
    {
     "name": "stderr",
     "output_type": "stream",
     "text": [
      "진행률:  85%|████████▌ | 820/964 [50:23<06:19,  2.63s/it]"
     ]
    },
    {
     "name": "stdout",
     "output_type": "stream",
     "text": [
      "상하 동시 작업 금지, 작업 전 안전 점검 강화, 의사소통 명확화, 낙하물 방지 대책 강화, 안전 교육 실시.\n"
     ]
    },
    {
     "name": "stderr",
     "output_type": "stream",
     "text": [
      "진행률:  86%|████████▌ | 825/964 [50:35<05:41,  2.45s/it]"
     ]
    },
    {
     "name": "stdout",
     "output_type": "stream",
     "text": [
      "와이어로프 교체, 정기 점검 강화, 안전모 착용 확인, 작업 반경 설정, 안전 교육 실시.\n"
     ]
    },
    {
     "name": "stderr",
     "output_type": "stream",
     "text": [
      "진행률:  86%|████████▌ | 829/964 [50:47<06:27,  2.87s/it]"
     ]
    },
    {
     "name": "stdout",
     "output_type": "stream",
     "text": [
      "\n",
      "[샘플 830/964] 진행 중...\n"
     ]
    },
    {
     "name": "stderr",
     "output_type": "stream",
     "text": [
      "진행률:  86%|████████▌ | 830/964 [50:49<06:07,  2.74s/it]"
     ]
    },
    {
     "name": "stdout",
     "output_type": "stream",
     "text": [
      "안전교육 강화, 장비 점검 강화, 작업 절차 개선, 관리감독 강화, 안전 장비 착용 의무화.\n"
     ]
    },
    {
     "name": "stderr",
     "output_type": "stream",
     "text": [
      "진행률:  87%|████████▋ | 835/964 [51:04<06:21,  2.95s/it]"
     ]
    },
    {
     "name": "stdout",
     "output_type": "stream",
     "text": [
      "거푸집 해체 순서 준수, 안전교육 실시, 불안전 행동 금지, 2인1조 작업, 개인보호장구 착용, 작업 전 점검 강화.\n"
     ]
    },
    {
     "name": "stderr",
     "output_type": "stream",
     "text": [
      "진행률:  87%|████████▋ | 839/964 [51:16<06:38,  3.19s/it]"
     ]
    },
    {
     "name": "stdout",
     "output_type": "stream",
     "text": [
      "\n",
      "[샘플 840/964] 진행 중...\n"
     ]
    },
    {
     "name": "stderr",
     "output_type": "stream",
     "text": [
      "진행률:  87%|████████▋ | 840/964 [51:19<06:03,  2.93s/it]"
     ]
    },
    {
     "name": "stdout",
     "output_type": "stream",
     "text": [
      "안전교육 강화, 작업 전 안전 점검, 보호구 착용 의무화, 작업 방법 개선, 산재 처리.\n"
     ]
    },
    {
     "name": "stderr",
     "output_type": "stream",
     "text": [
      "진행률:  88%|████████▊ | 845/964 [51:34<05:50,  2.94s/it]"
     ]
    },
    {
     "name": "stdout",
     "output_type": "stream",
     "text": [
      "전방주시 교육 강화, 현장 통제 강화, 안전 구역 설정, 차량 운행 규정 준수, 안전 점검 강화.\n"
     ]
    },
    {
     "name": "stderr",
     "output_type": "stream",
     "text": [
      "진행률:  88%|████████▊ | 849/964 [51:43<04:51,  2.54s/it]"
     ]
    },
    {
     "name": "stdout",
     "output_type": "stream",
     "text": [
      "\n",
      "[샘플 850/964] 진행 중...\n"
     ]
    },
    {
     "name": "stderr",
     "output_type": "stream",
     "text": [
      "진행률:  88%|████████▊ | 850/964 [51:46<04:59,  2.62s/it]"
     ]
    },
    {
     "name": "stdout",
     "output_type": "stream",
     "text": [
      "안전교육 강화, 이동경로 점검 및 정비, 작업 전 안전 점검 실시, 미끄럼 방지 대책 마련.\n"
     ]
    },
    {
     "name": "stderr",
     "output_type": "stream",
     "text": [
      "진행률:  89%|████████▊ | 855/964 [52:02<05:24,  2.97s/it]"
     ]
    },
    {
     "name": "stdout",
     "output_type": "stream",
     "text": [
      "작업 공간 정지 작업, 지반 상태 확인, 안전화 착용 및 조임 확인, 작업 전 안전 교육, 하도급 업체 안전 교육 강화, 사고 발생 즉시 보고 및 안전 조치.\n"
     ]
    },
    {
     "name": "stderr",
     "output_type": "stream",
     "text": [
      "진행률:  89%|████████▉ | 859/964 [52:13<05:01,  2.87s/it]"
     ]
    },
    {
     "name": "stdout",
     "output_type": "stream",
     "text": [
      "\n",
      "[샘플 860/964] 진행 중...\n"
     ]
    },
    {
     "name": "stderr",
     "output_type": "stream",
     "text": [
      "진행률:  89%|████████▉ | 860/964 [52:16<04:59,  2.88s/it]"
     ]
    },
    {
     "name": "stdout",
     "output_type": "stream",
     "text": [
      "공구 사용 시 안전교육 실시, 작업 전 안전 점검 강화, 공장 가공 검토, 안전 장갑 착용 의무화.\n"
     ]
    },
    {
     "name": "stderr",
     "output_type": "stream",
     "text": [
      "진행률:  90%|████████▉ | 865/964 [52:30<04:35,  2.78s/it]"
     ]
    },
    {
     "name": "stdout",
     "output_type": "stream",
     "text": [
      "안전교육 강화, 작업 전 안전 점검 철저, 근로자 부주의 방지 교육, 정리정돈 습관화, 안전 의식 고취.\n"
     ]
    },
    {
     "name": "stderr",
     "output_type": "stream",
     "text": [
      "진행률:  90%|█████████ | 869/964 [52:39<03:58,  2.51s/it]"
     ]
    },
    {
     "name": "stdout",
     "output_type": "stream",
     "text": [
      "\n",
      "[샘플 870/964] 진행 중...\n"
     ]
    },
    {
     "name": "stderr",
     "output_type": "stream",
     "text": [
      "진행률:  90%|█████████ | 870/964 [52:42<04:06,  2.63s/it]"
     ]
    },
    {
     "name": "stdout",
     "output_type": "stream",
     "text": [
      "작업 전 위험성 평가 강화, 안전 장갑 착용 의무화, 작업 공간 확보 및 정리 정돈, 작업 전 안전 교육 및 작업 방법 개선.\n"
     ]
    },
    {
     "name": "stderr",
     "output_type": "stream",
     "text": [
      "진행률:  91%|█████████ | 875/964 [52:56<03:59,  2.70s/it]"
     ]
    },
    {
     "name": "stdout",
     "output_type": "stream",
     "text": [
      "작업 전 안전 교육 강화, 1인 작업 금지, 안전 장갑 착용 확인, 작업 절차 준수, 현장 관리자 안전 점검 지시.\n"
     ]
    },
    {
     "name": "stderr",
     "output_type": "stream",
     "text": [
      "진행률:  91%|█████████ | 879/964 [53:06<03:33,  2.51s/it]"
     ]
    },
    {
     "name": "stdout",
     "output_type": "stream",
     "text": [
      "\n",
      "[샘플 880/964] 진행 중...\n"
     ]
    },
    {
     "name": "stderr",
     "output_type": "stream",
     "text": [
      "진행률:  91%|█████████▏| 880/964 [53:09<03:45,  2.69s/it]"
     ]
    },
    {
     "name": "stdout",
     "output_type": "stream",
     "text": [
      "안전교육 강화, 마찰력 있는 장갑 착용, 보호구 점검, 작업 전 위험성 평가, 현장 관리 감독 철저.\n"
     ]
    },
    {
     "name": "stderr",
     "output_type": "stream",
     "text": [
      "진행률:  92%|█████████▏| 885/964 [53:21<03:20,  2.54s/it]"
     ]
    },
    {
     "name": "stdout",
     "output_type": "stream",
     "text": [
      "불안전 행동 개선, 안전 교육 강화, 작업 전 안전 점검, 위험성 평가 재실시, 현장 안전 관리 강화.\n"
     ]
    },
    {
     "name": "stderr",
     "output_type": "stream",
     "text": [
      "진행률:  92%|█████████▏| 889/964 [53:33<03:26,  2.75s/it]"
     ]
    },
    {
     "name": "stdout",
     "output_type": "stream",
     "text": [
      "\n",
      "[샘플 890/964] 진행 중...\n"
     ]
    },
    {
     "name": "stderr",
     "output_type": "stream",
     "text": [
      "진행률:  92%|█████████▏| 890/964 [53:35<03:09,  2.56s/it]"
     ]
    },
    {
     "name": "stdout",
     "output_type": "stream",
     "text": [
      "후진 경고 장치 설치, 운전원 후진 교육 강화, 작업 구역 분리, 안전 관리 감독 강화.\n"
     ]
    },
    {
     "name": "stderr",
     "output_type": "stream",
     "text": [
      "진행률:  93%|█████████▎| 895/964 [53:49<03:03,  2.65s/it]"
     ]
    },
    {
     "name": "stdout",
     "output_type": "stream",
     "text": [
      "위험성 평가 실시 의무화, 충분한 작업 공간 확보, 숙련도 향상 교육, 공구 사용 전 점검 철저, 관리감독자 상주 작업.\n"
     ]
    },
    {
     "name": "stderr",
     "output_type": "stream",
     "text": [
      "진행률:  93%|█████████▎| 899/964 [53:59<02:46,  2.56s/it]"
     ]
    },
    {
     "name": "stdout",
     "output_type": "stream",
     "text": [
      "\n",
      "[샘플 900/964] 진행 중...\n"
     ]
    },
    {
     "name": "stderr",
     "output_type": "stream",
     "text": [
      "진행률:  93%|█████████▎| 900/964 [54:01<02:40,  2.51s/it]"
     ]
    },
    {
     "name": "stdout",
     "output_type": "stream",
     "text": [
      "작업발판 고정 강화, 작업 전 점검 실시, 안전교육 강화, 정리정돈 및 통로 확보, 불안전 행동 개선 교육.\n"
     ]
    },
    {
     "name": "stderr",
     "output_type": "stream",
     "text": [
      "진행률:  94%|█████████▍| 905/964 [54:13<02:19,  2.36s/it]"
     ]
    },
    {
     "name": "stdout",
     "output_type": "stream",
     "text": [
      "작업 순서 준수 교육 전파, 현장 점검 시 교육 점검, 안전관리 시스템 강화, 사고 예방 프로토콜 개선.\n"
     ]
    },
    {
     "name": "stderr",
     "output_type": "stream",
     "text": [
      "진행률:  94%|█████████▍| 909/964 [54:24<02:24,  2.63s/it]"
     ]
    },
    {
     "name": "stdout",
     "output_type": "stream",
     "text": [
      "\n",
      "[샘플 910/964] 진행 중...\n"
     ]
    },
    {
     "name": "stderr",
     "output_type": "stream",
     "text": [
      "진행률:  94%|█████████▍| 910/964 [54:28<02:53,  3.21s/it]"
     ]
    },
    {
     "name": "stdout",
     "output_type": "stream",
     "text": [
      "안전교육 강화, 작업 전 안전 점검, 이동 통로 확보, 미끄럼 방지 조치, 작업자 안전 의식 고취.\n"
     ]
    },
    {
     "name": "stderr",
     "output_type": "stream",
     "text": [
      "진행률:  95%|█████████▍| 915/964 [54:41<02:12,  2.71s/it]"
     ]
    },
    {
     "name": "stdout",
     "output_type": "stream",
     "text": [
      "작업자 안전교육 강화, 현장 정리정돈, 고정물 설치 위치 확인, 안전모 착용 확인, 관리감독 강화.\n"
     ]
    },
    {
     "name": "stderr",
     "output_type": "stream",
     "text": [
      "진행률:  95%|█████████▌| 919/964 [54:51<02:01,  2.70s/it]"
     ]
    },
    {
     "name": "stdout",
     "output_type": "stream",
     "text": [
      "\n",
      "[샘플 920/964] 진행 중...\n"
     ]
    },
    {
     "name": "stderr",
     "output_type": "stream",
     "text": [
      "진행률:  95%|█████████▌| 920/964 [54:53<01:54,  2.60s/it]"
     ]
    },
    {
     "name": "stdout",
     "output_type": "stream",
     "text": [
      "작업장 정리정돈 강화, 공구 관리 시스템 구축, 작업 전 안전 점검 강화, 휀룸 접근 통제, 작업 후 공구 반출 확인.\n"
     ]
    },
    {
     "name": "stderr",
     "output_type": "stream",
     "text": [
      "진행률:  96%|█████████▌| 925/964 [55:08<01:48,  2.79s/it]"
     ]
    },
    {
     "name": "stdout",
     "output_type": "stream",
     "text": [
      "작업 전 안전 점검 강화, 위험구역 통제, 안전 교육 및 경고, 부주의 방지 교육, 작업 환경 개선.\n"
     ]
    },
    {
     "name": "stderr",
     "output_type": "stream",
     "text": [
      "진행률:  96%|█████████▋| 929/964 [55:18<01:31,  2.61s/it]"
     ]
    },
    {
     "name": "stdout",
     "output_type": "stream",
     "text": [
      "\n",
      "[샘플 930/964] 진행 중...\n"
     ]
    },
    {
     "name": "stderr",
     "output_type": "stream",
     "text": [
      "진행률:  96%|█████████▋| 930/964 [55:21<01:35,  2.82s/it]"
     ]
    },
    {
     "name": "stdout",
     "output_type": "stream",
     "text": [
      "안전작업통로 확보, 작업 전 안전교육 실시, 재발 방지 대책 수립 요청, 수시 안전 지도.\n"
     ]
    },
    {
     "name": "stderr",
     "output_type": "stream",
     "text": [
      "진행률:  97%|█████████▋| 935/964 [55:34<01:16,  2.64s/it]"
     ]
    },
    {
     "name": "stdout",
     "output_type": "stream",
     "text": [
      "운반 방법 교육, 작업 전 위험 요소 확인, 안전 장비 착용, 현장 점검 강화.\n"
     ]
    },
    {
     "name": "stderr",
     "output_type": "stream",
     "text": [
      "진행률:  97%|█████████▋| 939/964 [55:44<01:03,  2.53s/it]"
     ]
    },
    {
     "name": "stdout",
     "output_type": "stream",
     "text": [
      "\n",
      "[샘플 940/964] 진행 중...\n"
     ]
    },
    {
     "name": "stderr",
     "output_type": "stream",
     "text": [
      "진행률:  98%|█████████▊| 940/964 [55:47<01:04,  2.70s/it]"
     ]
    },
    {
     "name": "stdout",
     "output_type": "stream",
     "text": [
      "안전대 착용 및 고정 상태 확인, 작업 발판 설치 및 점검, 안전 난간 설치 및 점검, 작업 전 안전 교육 및 TBM 실시, 미끄럼 방지 대책 강화, 작업 구역 정리정돈, 안전 관리자 감독 강화.\n"
     ]
    },
    {
     "name": "stderr",
     "output_type": "stream",
     "text": [
      "진행률:  98%|█████████▊| 945/964 [56:01<00:49,  2.63s/it]"
     ]
    },
    {
     "name": "stdout",
     "output_type": "stream",
     "text": [
      "작업 승인 절차 준수, 위험성 평가 강화, 안전 교육 실시, 작업 방법 개선, 현장 관리감독 강화.\n"
     ]
    },
    {
     "name": "stderr",
     "output_type": "stream",
     "text": [
      "진행률:  98%|█████████▊| 949/964 [56:13<00:44,  2.95s/it]"
     ]
    },
    {
     "name": "stdout",
     "output_type": "stream",
     "text": [
      "\n",
      "[샘플 950/964] 진행 중...\n"
     ]
    },
    {
     "name": "stderr",
     "output_type": "stream",
     "text": [
      "진행률:  99%|█████████▊| 950/964 [56:15<00:39,  2.82s/it]"
     ]
    },
    {
     "name": "stdout",
     "output_type": "stream",
     "text": [
      "가설구조물 설치 및 이동 금지, 안전난간 설치 및 점검, 작업 전 안전교육 강화, 작업 환경 정리정돈.\n"
     ]
    },
    {
     "name": "stderr",
     "output_type": "stream",
     "text": [
      "진행률:  99%|█████████▉| 955/964 [56:31<00:28,  3.20s/it]"
     ]
    },
    {
     "name": "stdout",
     "output_type": "stream",
     "text": [
      "이동식 크레인 작업 반경 관리 강화, 적정 하중 준수, 운전자 교육 강화, 안전 점검 강화, 작업 계획 수립 및 준수.\n"
     ]
    },
    {
     "name": "stderr",
     "output_type": "stream",
     "text": [
      "진행률:  99%|█████████▉| 959/964 [56:41<00:13,  2.75s/it]"
     ]
    },
    {
     "name": "stdout",
     "output_type": "stream",
     "text": [
      "\n",
      "[샘플 960/964] 진행 중...\n"
     ]
    },
    {
     "name": "stderr",
     "output_type": "stream",
     "text": [
      "진행률: 100%|█████████▉| 960/964 [56:44<00:10,  2.62s/it]"
     ]
    },
    {
     "name": "stdout",
     "output_type": "stream",
     "text": [
      "자재 품질 검증 강화, 석재 안전성 평가, 작업 전 점검 강화, 안전 교육 실시, 작업 방법 개선, 보호구 착용 의무화.\n"
     ]
    },
    {
     "name": "stderr",
     "output_type": "stream",
     "text": [
      "진행률: 100%|██████████| 964/964 [56:55<00:00,  3.54s/it]"
     ]
    },
    {
     "name": "stdout",
     "output_type": "stream",
     "text": [
      "\n",
      "테스트 실행 완료! 총 결과 수: 964\n"
     ]
    },
    {
     "name": "stderr",
     "output_type": "stream",
     "text": [
      "\n"
     ]
    }
   ],
   "source": [
    "from tqdm import tqdm\n",
    "\n",
    "test_results = []\n",
    "\n",
    "print(\"테스트 실행 시작... 총 테스트 샘플 수:\", len(combined_test_data))\n",
    "for idx, row in tqdm(combined_test_data.iterrows(), total=len(combined_test_data), desc=\"진행률\"):\n",
    "    if (idx + 1) % 10 == 0 or idx == 0:\n",
    "        print(f\"\\n[샘플 {idx + 1}/{len(combined_test_data)}] 진행 중...\")\n",
    "    \n",
    "    question = row['question']  # combined_test_data의 'question' 컬럼 사용\n",
    "    result = qa_chain_reranked.invoke(question)     # qa_chain_hybrid / qa_chain_rerank\n",
    "    final_answer = result['result'].strip()\n",
    "    test_results.append(final_answer)\n",
    "\n",
    "    if (idx + 1) % 5 == 0 or idx == 0:\n",
    "        print(final_answer)\n",
    "\n",
    "print(\"\\n테스트 실행 완료! 총 결과 수:\", len(test_results))"
   ]
  },
  {
   "cell_type": "code",
   "execution_count": null,
   "id": "657948c1",
   "metadata": {},
   "outputs": [
    {
     "name": "stdout",
     "output_type": "stream",
     "text": [
      "병렬 테스트 실행 시작... 총 샘플 수: 964\n"
     ]
    },
    {
     "name": "stderr",
     "output_type": "stream",
     "text": [
      "진행 상황:   0%|          | 0/964 [00:00<?, ?it/s]"
     ]
    },
    {
     "name": "stderr",
     "output_type": "stream",
     "text": [
      "진행 상황: 100%|██████████| 964/964 [29:24<00:00,  1.83s/it]"
     ]
    },
    {
     "name": "stdout",
     "output_type": "stream",
     "text": [
      "\n",
      "테스트 완료! 총 결과 수: 964\n"
     ]
    },
    {
     "name": "stderr",
     "output_type": "stream",
     "text": [
      "\n"
     ]
    }
   ],
   "source": [
    "# from concurrent.futures import ThreadPoolExecutor, as_completed\n",
    "# from tqdm import tqdm\n",
    "\n",
    "# # 최대 병렬 작업 수\n",
    "# MAX_WORKERS = 8\n",
    "\n",
    "# # 결과 저장 리스트 (인덱스 순서 보장을 위해 미리 None으로 채움)\n",
    "# test_results = [None] * len(combined_test_data)\n",
    "\n",
    "# # 병렬 실행 함수\n",
    "# def run_qa_chain(index, question):\n",
    "#     try:\n",
    "#         result = qa_chain_hybrid.invoke(question)\n",
    "#         return index, result['result'].strip()\n",
    "#     except Exception as e:\n",
    "#         return index, f\"[ERROR] {str(e)}\"\n",
    "\n",
    "# print(\"병렬 테스트 실행 시작... 총 샘플 수:\", len(combined_test_data))\n",
    "\n",
    "# # ThreadPoolExecutor + tqdm 진행률 바\n",
    "# with ThreadPoolExecutor(max_workers=MAX_WORKERS) as executor:\n",
    "#     futures = [\n",
    "#         executor.submit(run_qa_chain, idx, row['question'])\n",
    "#         for idx, row in combined_test_data.iterrows()\n",
    "#     ]\n",
    "\n",
    "#     for future in tqdm(as_completed(futures), total=len(futures), desc=\"진행 상황\"):\n",
    "#         idx, result_text = future.result()\n",
    "#         test_results[idx] = result_text\n",
    "\n",
    "# print(\"\\n테스트 완료! 총 결과 수:\", len(test_results))"
   ]
  },
  {
   "cell_type": "markdown",
   "id": "e9022911",
   "metadata": {},
   "source": [
    "# Submission"
   ]
  },
  {
   "cell_type": "code",
   "execution_count": 14,
   "id": "178e21c6",
   "metadata": {},
   "outputs": [
    {
     "name": "stdout",
     "output_type": "stream",
     "text": [
      "(964, 768)\n"
     ]
    }
   ],
   "source": [
    "from sentence_transformers import SentenceTransformer\n",
    "\n",
    "embedding_model_name = \"jhgan/ko-sbert-sts\"\n",
    "embedding = SentenceTransformer(embedding_model_name)\n",
    "\n",
    "# 문장 리스트를 입력하여 임베딩 생성\n",
    "pred_embeddings = embedding.encode(test_results)\n",
    "print(pred_embeddings.shape)  # (샘플 개수, 768)"
   ]
  },
  {
   "cell_type": "code",
   "execution_count": 15,
   "id": "ae869742-4a0b-45bc-8a50-e385b67a9030",
   "metadata": {},
   "outputs": [],
   "source": [
    "submission = pd.read_csv('/home/wanted-1/potenup-workspace/Project/dacon/DACON-construction-accident-prevention/data/sample_submission.csv', encoding = 'utf-8-sig')\n",
    "\n",
    "# 최종 결과 저장\n",
    "submission.iloc[:,1] = test_results\n",
    "submission.iloc[:,2:] = pred_embeddings\n",
    "submission.head()\n",
    "\n",
    "# 최종 결과를 CSV로 저장\n",
    "submission.to_csv('6th_submission.csv', index=False, encoding='utf-8-sig')"
   ]
  },
  {
   "cell_type": "code",
   "execution_count": 43,
   "id": "0bed0442",
   "metadata": {},
   "outputs": [
    {
     "data": {
      "text/plain": [
       "(964, 770)"
      ]
     },
     "execution_count": 43,
     "metadata": {},
     "output_type": "execute_result"
    }
   ],
   "source": [
    "temp = pd.read_csv('/home/wanted-1/potenup-workspace/Project/dacon/DACON-construction-accident-prevention/data/sample_submission.csv')\n",
    "temp.shape"
   ]
  },
  {
   "cell_type": "code",
   "execution_count": 56,
   "id": "0d8ab918",
   "metadata": {},
   "outputs": [
    {
     "data": {
      "text/plain": [
       "0"
      ]
     },
     "execution_count": 56,
     "metadata": {},
     "output_type": "execute_result"
    }
   ],
   "source": [
    "submission.isna().sum().sum()"
   ]
  },
  {
   "cell_type": "code",
   "execution_count": null,
   "id": "988456f6",
   "metadata": {},
   "outputs": [],
   "source": [
    "import pandas as pd\n",
    "\n",
    "# CSV 파일 읽기\n",
    "df = pd.read_csv('submission.csv')\n",
    "\n",
    "# 대상 ID\n",
    "target_ids = ['TEST_060', 'TEST_370', 'TEST_701', 'TEST_945']\n",
    "\n",
    "# 대체할 문장\n",
    "replacement_text = '작업자 안전교육 실시를 통한 재발 방지 대책 및 향후 조치 계획.'\n",
    "\n",
    "# 지정된 ID에 대해 해당 열 값 변경\n",
    "df.loc[df['ID'].isin(target_ids), '재발방지대책 및 향후조치계획'] = replacement_text\n",
    "\n",
    "# 확인 (선택)\n",
    "print(df[df['ID'].isin(target_ids)][['ID', '재발방지대책 및 향후조치계획']])\n",
    "\n",
    "# 필요 시 저장\n",
    "# df.to_csv('submission_filled.csv', index=False, encoding='utf-8-sig')\n"
   ]
  },
  {
   "cell_type": "code",
   "execution_count": null,
   "id": "04359b8c",
   "metadata": {},
   "outputs": [],
   "source": [
    "# 결측치가 하나라도 있는 행을 출력\n",
    "missing_rows = df[df.isnull().any(axis=1)]\n",
    "print(missing_rows)\n"
   ]
  }
 ],
 "metadata": {
  "kernelspec": {
   "display_name": "hsdeco3",
   "language": "python",
   "name": "python3"
  },
  "language_info": {
   "codemirror_mode": {
    "name": "ipython",
    "version": 3
   },
   "file_extension": ".py",
   "mimetype": "text/x-python",
   "name": "python",
   "nbconvert_exporter": "python",
   "pygments_lexer": "ipython3",
   "version": "3.10.16"
  }
 },
 "nbformat": 4,
 "nbformat_minor": 5
}
